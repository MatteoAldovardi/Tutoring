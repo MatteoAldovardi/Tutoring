{
 "cells": [
  {
   "cell_type": "markdown",
   "metadata": {
    "colab_type": "text",
    "id": "view-in-github"
   },
   "source": [
    "<a href=\"https://colab.research.google.com/github/MatteoAldovardi/Tutoring/blob/main/Temperatura_e_calore.ipynb\" target=\"_parent\"><img src=\"https://colab.research.google.com/assets/colab-badge.svg\" alt=\"Open In Colab\"/></a>"
   ]
  },
  {
   "cell_type": "markdown",
   "metadata": {
    "id": "N_PLq90CKj5N"
   },
   "source": [
    "# Introduction to Heat and Temperature  \n",
    "\n",
    "## What is Temperature?  \n",
    "Temperature is a measure of the average kinetic energy of the particles in a substance. It determines how hot or cold an object is and is commonly measured in **Celsius (°C), Kelvin (K),** or **Fahrenheit (°F)**.  \n",
    "\n",
    "In physics, temperature plays a crucial role in defining the **state of matter** and influencing various physical and chemical processes.  \n",
    "\n",
    "## What is Heat?  \n",
    "Heat is a form of **energy transfer** between objects due to a difference in temperature. It flows from **hotter** objects to **colder** objects until thermal equilibrium is reached. Heat is measured in **joules (J)** or **calories (cal)**.  \n",
    "\n",
    "## Key Differences Between Heat and Temperature  \n",
    "| Property      | Heat | Temperature |\n",
    "|--------------|------|------------|\n",
    "| Definition   | Energy transfer due to temperature difference | Measure of average kinetic energy of particles |\n",
    "| SI Unit      | Joule (J) | Kelvin (K) or Celsius (°C) |\n",
    "| Symbol       | Q | T |\n",
    "| Depends On   | Mass, material, and temperature change | Only on the average kinetic energy of particles |\n",
    "| Can Be Transferred? | Yes, via conduction, convection, and radiation | No, it is a property, not an energy form |\n",
    "\n",
    "## Methods of Heat Transfer  \n",
    "Heat can be transferred in three main ways:  \n",
    "\n",
    "1. **Conduction** – Direct transfer of heat through a material (e.g., metal spoon in hot tea).  \n",
    "2. **Convection** – Transfer of heat through fluids due to density differences (e.g., warm air rising).  \n",
    "3. **Radiation** – Transfer of heat via electromagnetic waves (e.g., sunlight warming the Earth).  \n",
    "\n",
    "## Real-World Applications  \n",
    "- **Thermometers** measure temperature based on the expansion of liquids or electrical resistance.  \n",
    "- **Insulation** helps reduce unwanted heat transfer in homes and industrial settings.  \n",
    "- **Engines and Refrigerators** operate based on heat transfer principles to produce work and cool environments.  \n",
    "\n",
    "Understanding heat and temperature is essential in physics, engineering, and daily life, as they influence everything from **weather patterns** to **energy efficiency** in buildings and machines.  \n",
    "\n",
    "---\n"
   ]
  },
  {
   "cell_type": "markdown",
   "metadata": {
    "id": "f9eOW8kazzRx"
   },
   "source": [
    "# Unit Conversions: Temperature and Heat  \n",
    "\n",
    "## Temperature Unit Conversions  \n",
    "Temperature can be measured in different units:  \n",
    "\n",
    "- **Celsius (°C)**\n",
    "- **Kelvin (K)**\n",
    "- **Fahrenheit (°F)**  \n",
    "\n",
    "The formulas to convert between these units are:  \n",
    "\n",
    "### 🌡 **Temperature Conversion Formulas**  \n",
    "1. **Celsius to Fahrenheit:**  \n",
    "   $$\n",
    "   °F = \\frac{9}{5} (°C) + 32\n",
    "   $$\n",
    "2. **Fahrenheit to Celsius:**  \n",
    "   $$\n",
    "   °C = \\frac{5}{9} (°F - 32)\n",
    "   $$\n",
    "3. **Celsius to Kelvin:**  \n",
    "   $$\n",
    "   K = °C + 273.15\n",
    "   $$\n",
    "4. **Kelvin to Celsius:**  \n",
    "   $$\n",
    "   °C = K - 273.15\n",
    "   $$\n",
    "5. **Fahrenheit to Kelvin:**  \n",
    "   $$\n",
    "   K = \\frac{5}{9} (°F - 32) + 273.15\n",
    "   $$\n",
    "6. **Kelvin to Fahrenheit:**  \n",
    "   $$\n",
    "   °F = \\frac{9}{5} (K - 273.15) + 32\n",
    "   $$\n",
    "\n",
    "---\n",
    "\n",
    "## Heat Energy Conversion  \n",
    "Heat energy is measured in **joules (J)**, but sometimes other units like **calories (cal)** or **BTU (British Thermal Unit)** are used.  \n",
    "\n",
    "### 🔥 **Common Heat Energy Conversions**  \n",
    "1. **1 calorie (cal) = 4.184 joules (J)**  \n",
    "2. **1 kilocalorie (kcal) = 4184 joules (J)**  \n",
    "3. **1 BTU = 1055 joules (J)**  \n",
    "\n",
    "\n"
   ]
  },
  {
   "cell_type": "code",
   "execution_count": 2,
   "metadata": {
    "colab": {
     "base_uri": "https://localhost:8080/"
    },
    "id": "TfvK3_p1zyuE",
    "outputId": "b4e5962a-f410-49eb-cfdb-a2da0450b9f9"
   },
   "outputs": [
    {
     "name": "stdout",
     "output_type": "stream",
     "text": [
      "40°C are 104.0°F\n",
      "40°F are 4.444444444444445°C\n"
     ]
    }
   ],
   "source": [
    "\n",
    "def celsius_to_fahrenheit(celsius):\n",
    "    return (9/5) * celsius + 32\n",
    "def farenheit_to_celsius(farenheit):\n",
    "    return (5/9) * (farenheit - 32)\n",
    "def kelvin_to_farenheit(kelvin):\n",
    "    return (9/5) * (kelvin - 273.15) + 32\n",
    "def farhenheit_to_kelvin(farenheit):\n",
    "    return (5/9) * (farenheit - 32) + 273.15\n",
    "\n",
    "def kelvin_to_celsius(kelvin):\n",
    "    return kelvin - 273.15\n",
    "\n",
    "def celsius_to_kelvin(celsius):\n",
    "    return celsius + 273.15\n",
    "\n",
    "def celsius_to_fahrenheit(celsius):\n",
    "    return (9/5) * celsius + 32\n",
    "def farenheit_to_celsius(farenheit):\n",
    "    return (5/9) * (farenheit - 32)\n",
    "def kelvin_to_farenheit(kelvin):\n",
    "    return (9/5) * (kelvin - 273.15) + 32\n",
    "def farhenheit_to_kelvin(farenheit):\n",
    "    return (5/9) * (farenheit - 32) + 273.15\n",
    "\n",
    "def kelvin_to_celsius(kelvin):\n",
    "    return kelvin - 273.15\n",
    "\n",
    "def celsius_to_kelvin(celsius):\n",
    "    return celsius + 273.15\n",
    "\n",
    "\n",
    "x = 40\n",
    "\n",
    "print(f\"{x}°C are {celsius_to_fahrenheit(x)}°F\")"
   ]
  },
  {
   "cell_type": "markdown",
   "metadata": {
    "id": "dgxt-1tz3ASy"
   },
   "source": []
  },
  {
   "cell_type": "markdown",
   "metadata": {
    "id": "hgksvZXl0HNS"
   },
   "source": []
  }
 ],
 "metadata": {
  "colab": {
   "authorship_tag": "ABX9TyNuaaQ2JTf2me92u8cXkp0P",
   "include_colab_link": true,
   "provenance": []
  },
  "kernelspec": {
   "display_name": "Python 3 (ipykernel)",
   "language": "python",
   "name": "python3"
  },
  "language_info": {
   "codemirror_mode": {
    "name": "ipython",
    "version": 3
   },
   "file_extension": ".py",
   "mimetype": "text/x-python",
   "name": "python",
   "nbconvert_exporter": "python",
   "pygments_lexer": "ipython3",
   "version": "3.12.7"
  }
 },
 "nbformat": 4,
 "nbformat_minor": 4
}
