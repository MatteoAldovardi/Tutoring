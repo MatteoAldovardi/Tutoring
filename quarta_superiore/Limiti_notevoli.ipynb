{
 "cells": [
  {
   "cell_type": "markdown",
   "metadata": {
    "id": "wv4RInGIMVQZ"
   },
   "source": [
    "### A Little Bit of Motivation:\n",
    "\n",
    "The list of limits taught in high school often serves as a shortcut to avoid delving into the more advanced Taylor series expansions. These limits are primarily used for transcendental functions such as $\\cos(x)$, $\\sin(x)$, $e^x$, and $\\ln(x)$—essentially, functions that are not polynomials or powers of polynomials. The goal of these limits is to approximate the behavior of transcendental functions in terms of polynomials.\n",
    "\n",
    "For instance, the second-order Taylor expansion of $\\cos(x)$ is:\n",
    "$$\n",
    "\\cos(x) = 1 - \\frac{x^2}{2} + o(x^2).\n",
    "$$  \n",
    "Intuitively, this means that near zero, $\\cos(x)$ behaves like\n",
    "$$\n",
    "1 - \\frac{x^2}{2},\n",
    "$$  \n",
    "with the additional term $o(x^2)$ being negligible compared to $x^2$.  \n",
    "\n",
    "Rather than teaching this expansion, students are often asked to memorize the limit:\n",
    "$$\n",
    "\\lim_{x \\to 0} \\frac{1 - \\cos(x)}{x^2} = \\frac{1}{2}.\n",
    "$$  \n",
    "These standard limits are useful for evaluating certain indeterminate forms.  \n",
    "\n",
    "A practical approach is to memorize a few key results and then recognize similar patterns in other limits.\n",
    "\n",
    "An alternative to memorizing these limits is L'Hôpital's Rule, which can be applied when derivatives are known.\n",
    "\n",
    "\n",
    "In the following lines I propose some exercises to give you a sense of what I mean with **pattern recognition** in this context."
   ]
  },
  {
   "cell_type": "markdown",
   "metadata": {
    "id": "0gQD7zPFDlqH"
   },
   "source": [
    "**Hint:** For the first two limits, use  \n",
    "$$\n",
    "\\lim_{x \\to 0} \\frac{1 - \\cos(x)}{x^2} = \\frac{1}{2}.\n",
    "$$\n",
    "\n",
    "Evaluate:  \n",
    "- $\\lim\\limits_{x \\to 0} \\frac{1 - \\cos(2x)}{2x}$  \n",
    "- $\\lim\\limits_{x \\to 0} \\frac{1 - \\cos(2x)}{x^2}$  \n",
    "\n",
    "---\n",
    "\n",
    "**Hint:** Use the given limit  \n",
    "$$\n",
    "\\lim_{x \\to 0} \\frac{1 - \\cos(x)}{x^2} = \\frac{1}{2}.\n",
    "$$\n",
    "\n",
    "Evaluate:  \n",
    "- $\\lim\\limits_{x \\to 0} \\frac{\\sin(x) - \\sin(2x)}{x^2}$  \n",
    "\n",
    "---\n",
    "\n",
    "**Hint:** Use the fundamental limit  \n",
    "$$\n",
    "\\lim_{x \\to 0} \\frac{\\sin(x)}{x} = 1.\n",
    "$$\n",
    "\n",
    "Evaluate:  \n",
    "- $\\lim\\limits_{x \\to 0} \\frac{\\sin(x) - \\tan(2x)}{x^n}$  \n",
    "\n",
    "---\n",
    "\n",
    "**Hint:** Use the following limits:  \n",
    "$$\n",
    "\\lim_{x \\to 0} \\frac{\\tan(x)}{x} = 1, \\quad  \n",
    "\\lim_{x \\to 0} \\frac{\\sin(x)}{x} = 1.\n",
    "$$\n",
    "\n",
    "Now try to follow the same approach as before:  \n",
    "- $\\lim\\limits_{x \\to 0} \\frac{1 - \\cos(2x)}{x}$  \n",
    "- $\\lim\\limits_{x \\to 0} \\frac{\\tan(2x)}{\\tan(3x)}$  \n"
   ]
  },
  {
   "cell_type": "code",
   "execution_count": 2,
   "metadata": {
    "colab": {
     "base_uri": "https://localhost:8080/"
    },
    "id": "M1lVoHyMDG9W",
    "outputId": "bfcd3b95-41cd-4877-af7b-ab55134a3c06"
   },
   "outputs": [
    {
     "name": "stdout",
     "output_type": "stream",
     "text": [
      "lim (1 - cos(2x)) / (2x) as x -> 0: 0\n",
      "lim (1 - cos(2x)) / x^2 as x -> 0: 2\n",
      "lim (sin(x) - sin(2x)) / x^2 as x -> 0: -oo\n",
      "lim (sin(x) - tan(2x)) / x^n as x -> 0: -oo\n",
      "lim (1 - cos(2x)) / x as x -> 0: 0\n",
      "lim tan(2x) / tan(3x) as x -> 0: 2/3\n"
     ]
    }
   ],
   "source": [
    "import sympy as sp\n",
    "\n",
    "# Define the variable\n",
    "x = sp.symbols('x')\n",
    "\n",
    "n = 2\n",
    "\n",
    "\n",
    "# Define the expressions\n",
    "expr1 = (1 - sp.cos(2*x)) / (2*x)\n",
    "expr2 = (1 - sp.cos(2*x)) / x**2\n",
    "expr3 = (sp.sin(x) - sp.sin(2*x)) / x**2\n",
    "expr4 = (sp.sin(x) - sp.tan(2*x)) / x**n  # Assuming n is a parameter\n",
    "expr5 = (1 - sp.cos(2*x)) / x\n",
    "expr6 = sp.tan(2*x) / sp.tan(3*x)\n",
    "\n",
    "# Compute limits\n",
    "limit1 = sp.limit(expr1, x, 0)\n",
    "limit2 = sp.limit(expr2, x, 0)\n",
    "limit3 = sp.limit(expr3, x, 0)\n",
    "limit4 = sp.limit(expr4, x, 0)\n",
    "limit5 = sp.limit(expr5, x, 0)\n",
    "limit6 = sp.limit(expr6, x, 0)\n",
    "\n",
    "# Display results\n",
    "limits = {\n",
    "    \"lim (1 - cos(2x)) / (2x) as x -> 0\": limit1,\n",
    "    \"lim (1 - cos(2x)) / x^2 as x -> 0\": limit2,\n",
    "    \"lim (sin(x) - sin(2x)) / x^2 as x -> 0\": limit3,\n",
    "    \"lim (sin(x) - tan(2x)) / x^n as x -> 0\": limit4,\n",
    "    \"lim (1 - cos(2x)) / x as x -> 0\": limit5,\n",
    "    \"lim tan(2x) / tan(3x) as x -> 0\": limit6\n",
    "}\n",
    "\n",
    "for key, value in limits.items():\n",
    "    print(f\"{key}: {value}\")\n"
   ]
  },
  {
   "cell_type": "markdown",
   "metadata": {
    "id": "g2Nx-w-AHNpC"
   },
   "source": [
    "### Get Creative:\n",
    "\n",
    "Now, in addition to the previous patterns:  \n",
    "$$\n",
    "\\lim_{x\\to 0} \\frac{\\sin(x)}{x} = 1 \\quad \\text{(since $\\sin(x)$ and $x$ approach zero at the same rate)}\n",
    "$$\n",
    "$$\n",
    "\\lim_{x \\to 0} \\frac{1 - \\cos(x)}{x^2} = \\frac{1}{2} \\quad \\text{(since $1 - \\cos(x)$ behaves like $x^2$ for small $x$)}\n",
    "$$\n",
    "\n",
    "you must also consider the effect of additional exponentiation.\n"
   ]
  },
  {
   "cell_type": "markdown",
   "metadata": {
    "id": "pn4_gzSHIN8R"
   },
   "source": [
    "$$\n",
    "\\lim_{x \\to 0} \\dfrac{\\sqrt{1 - \\cos(2\\cdot x)}}{2x}\n",
    "$$\n",
    "\n",
    "$$\n",
    "\\lim_{x \\to 0} \\dfrac{ ( 1 - \\cos (2x))^2}{x^n}\n",
    "$$\n",
    "\n",
    "$$\n",
    "\\lim_{x \\to 0} \\dfrac{\\sin(x) - \\sin(2x)}{x^2}\n",
    "$$\n",
    "\n",
    "$$\n",
    "\\lim_{x \\to 0} \\dfrac{\\sin(x) -  \\tan (2x)}{ x^2}\n",
    "$$\n",
    "\n",
    "$$\n",
    "\\lim_{x \\to \\frac{\\pi}{2}} \\dfrac{\\sqrt{1 - sin(2x)}}{2x}\n",
    "$$"
   ]
  },
  {
   "cell_type": "code",
   "execution_count": null,
   "metadata": {
    "id": "StkFU56MIM4l"
   },
   "outputs": [],
   "source": []
  },
  {
   "cell_type": "code",
   "execution_count": null,
   "metadata": {
    "id": "NSHLSykOHMPe"
   },
   "outputs": [],
   "source": []
  }
 ],
 "metadata": {
  "colab": {
   "provenance": []
  },
  "kernelspec": {
   "display_name": "Python 3 (ipykernel)",
   "language": "python",
   "name": "python3"
  },
  "language_info": {
   "codemirror_mode": {
    "name": "ipython",
    "version": 3
   },
   "file_extension": ".py",
   "mimetype": "text/x-python",
   "name": "python",
   "nbconvert_exporter": "python",
   "pygments_lexer": "ipython3",
   "version": "3.12.7"
  }
 },
 "nbformat": 4,
 "nbformat_minor": 4
}
