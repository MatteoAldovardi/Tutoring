{
 "cells": [
  {
   "cell_type": "markdown",
   "metadata": {
    "colab_type": "text",
    "id": "view-in-github"
   },
   "source": [
    "<a href=\"https://colab.research.google.com/github/MatteoAldovardi/Tutoring/blob/main/Panoramica_sui_limiti_e_limiti_notevoli.ipynb\" target=\"_parent\"><img src=\"https://colab.research.google.com/assets/colab-badge.svg\" alt=\"Open In Colab\"/></a>"
   ]
  },
  {
   "cell_type": "markdown",
   "metadata": {},
   "source": [
    "# Introduzione ai Limiti\n",
    "\n",
    "## Motivazione e Definizione\n",
    "I limiti sono uno strumento fondamentale dell'analisi matematica. Essi permettono di studiare il comportamento di una funzione vicino a un punto o all'infinito. Per esempio:\n",
    "$$ \\lim_{x \\to +\\infty} \\frac{1}{x} = 0 $$\n",
    "\n",
    "Intuitivamente, possiamo vedere graficamente che all'aumentare di $x$, il valore di $1/x$ si avvicina sempre più a zero. Formalmente, possiamo dire che per ogni $\\epsilon > 0$, esiste un $M > 0$ tale che se $x > M$, allora $\\left| \\frac{1}{x} - 0 \\right| = \\vert \\frac{1}{x} \\vert < \\epsilon$. È probabile che abbiate visto che la soglia $M$ può essere scelta uguale a $\\frac{1}{\\epsilon}.$\n"
   ]
  },
  {
   "cell_type": "code",
   "execution_count": 9,
   "metadata": {},
   "outputs": [
    {
     "data": {
      "application/vnd.jupyter.widget-view+json": {
       "model_id": "eab01f60acfd475ea15ab0423f6f812d",
       "version_major": 2,
       "version_minor": 0
      },
      "text/plain": [
       "interactive(children=(FloatSlider(value=0.5, description='$\\\\epsilon$', max=0.5, min=0.01, step=0.01), Output(…"
      ]
     },
     "metadata": {},
     "output_type": "display_data"
    },
    {
     "data": {
      "text/plain": [
       "<function __main__.plot_limit(epsilon)>"
      ]
     },
     "execution_count": 9,
     "metadata": {},
     "output_type": "execute_result"
    }
   ],
   "source": [
    "import numpy as np\n",
    "import matplotlib.pyplot as plt\n",
    "import ipywidgets as widgets\n",
    "from ipywidgets import interact\n",
    "\n",
    "def plot_limit(epsilon):\n",
    "    x = np.linspace(1, 10, 400)\n",
    "    y = 1 / x\n",
    "    M = 1 / epsilon\n",
    "\n",
    "    plt.figure(figsize=(8, 5))\n",
    "    plt.plot(x, y, label=r\"$f(x) = \\frac{1}{x}$\", color=\"blue\")\n",
    "    plt.axhline(y=epsilon, color='red', linestyle='--', label=r\"$\\epsilon$ threshold\")\n",
    "    plt.axvline(x=M, color='green', linestyle='--', label=r\"$M = \\frac{1}{\\epsilon}$\")\n",
    "    \n",
    "    plt.xlabel(\"$x$\")\n",
    "    plt.ylabel(\"$f(x)$\")\n",
    "    plt.title(r\"Visualizzazione del Limite di $\\frac{1}{x}$ per $x \\to +\\infty$\")\n",
    "    plt.legend()\n",
    "    plt.grid(True)\n",
    "    plt.show()\n",
    "\n",
    "# Creazione dello slider e visualizzazione\n",
    "epsilon_slider = widgets.FloatSlider(min=0.01, max=0.5, step=0.01, value=0.5, description=r\"$\\epsilon$\")\n",
    "interact(plot_limit, epsilon=epsilon_slider)"
   ]
  },
  {
   "cell_type": "markdown",
   "metadata": {
    "id": "p5XUEn9-byCT"
   },
   "source": [
    "## Proprietà dei Limiti\n",
    "Dopo aver introdotto i limiti, possiamo studiare alcune delle loro proprietà fondamentali:\n",
    "\n",
    "1. **Limite della somma**:  \n",
    "   $$ \\lim_{x \\to a} [f(x) + g(x)] = \\lim_{x \\to a} f(x) + \\lim_{x \\to a} g(x) $$  \n",
    "2. **Limite del prodotto**:  \n",
    "   $$ \\lim_{x \\to a} [f(x) \\cdot g(x)] = \\lim_{x \\to a} f(x) \\cdot \\lim_{x \\to a} g(x) $$  \n",
    "3. **Limite del rapporto**:  \n",
    "   $$ \\lim_{x \\to a} \\frac{f(x)}{g(x)} = \\frac{\\lim_{x \\to a} f(x)}{\\lim_{x \\to a} g(x)} $$  \n",
    "   se $\\lim_{x \\to a} g(x) \\neq 0$.\n",
    "\n",
    "Queste proprietà ci permettono di risolvere alcuni limiti che coinvolgono polinomi o potenze di $x$ (incluse radici)."
   ]
  },
  {
   "cell_type": "markdown",
   "metadata": {},
   "source": [
    "## Forme di Indeterminazione\n",
    "\n",
    "Durante lo studio dei limiti, incontriamo le prime forme di indeterminazione come:\n",
    "\n",
    "* $\\frac{\\infty}{\\infty}$\n",
    "* $\\frac{0}{0}$\n",
    "* $0 \\cdot \\infty$\n",
    "* $\\infty - \\infty$\n",
    "* $1^\\infty$\n",
    "* $0^0$\n",
    "* $\\infty^0$\n",
    "\n",
    "Queste forme sono dette \"indeterminate\" perché il loro valore non può essere determinato direttamente dalla sostituzione dei limiti.\n",
    "\n",
    "Per i polinomi e le potenze di $x$, risolvere queste forme è spesso semplice: possiamo raccogliere il termine di grado massimo o altre tecniche algebriche. Ad esempio:\n",
    "\n",
    "* $\\lim_{x \\to \\infty} \\frac{x^2 + 1}{2x^2 + x} = \\frac{1}{2}$ (raccogliendo $x^2$)\n",
    "* $\\lim_{x \\to 0} \\frac{x^2 + 2x}{x} = 2$ (semplificando $x$)\n",
    "\n",
    "Per funzioni diverse da polinomi e potenze di $x$ (esponenziali, logaritmi e funzioni trigonometriche), è necessario introdurre i **limiti notevoli**, un elenco di limiti da imparare a memoria che ci aiuta a ricondurci al calcolo di limiti che coinvolgono solo polinomi e potenze di $x$.\n",
    "\n",
    "**Curiosità:**\n",
    "Esponenziali, logaritmi e funzioni trigonometriche sono anche dette funzioni **trascendenti**.\n",
    "\n",
    "### Esempi\n",
    "$$ \\lim_{x \\to 0} \\frac{\\sin x}{x^{1/2}} = \\lim_{x \\to 0} \\frac{\\sin x}{x} \\cdot \\frac{x}{x^{1/2}} = \\lim_{x \\to 0} \\frac{\\sin x}{x} \\cdot \\lim_{x \\to 0} \\frac{x}{x^{1/2}} = \\lim_{x \\to 0} \\frac{\\sin x}{x} \\cdot \\lim_{x \\to 0} x^{1/2} = 1 \\cdot 0 = 0  $$\n",
    "\n"
   ]
  },
  {
   "cell_type": "markdown",
   "metadata": {},
   "source": [
    "## Il Ruolo dei Limiti Notevoli e L'Hôpital\n",
    "In futuro, con le derivate e il **teorema di L'Hôpital**, il listone di limiti notevoli sarà meno necessario, ma rimane utile per risolvere rapidamente problemi senza ricorrere al calcolo differenziale."
   ]
  },
  {
   "cell_type": "markdown",
   "metadata": {},
   "source": [
    "```mermaid\n",
    "graph TD\n",
    "    A[Definizione Limite e limiti elementari] --> B[Primi limiti con polinomi e potenze di x];\n",
    "    B --> C[Forme di indeterminazione];\n",
    "    C --> D[Limiti notevoli];\n",
    "    D --> E[Tecniche avanzate: Hopital ed altri aggeggi con le derivate];\n",
    "```"
   ]
  }
 ],
 "metadata": {
  "colab": {
   "authorship_tag": "ABX9TyM1wd35e0RLdUn5rRz+4nct",
   "include_colab_link": true,
   "provenance": []
  },
  "kernelspec": {
   "display_name": "Python 3 (ipykernel)",
   "language": "python",
   "name": "python3"
  },
  "language_info": {
   "codemirror_mode": {
    "name": "ipython",
    "version": 3
   },
   "file_extension": ".py",
   "mimetype": "text/x-python",
   "name": "python",
   "nbconvert_exporter": "python",
   "pygments_lexer": "ipython3",
   "version": "3.12.7"
  }
 },
 "nbformat": 4,
 "nbformat_minor": 4
}
