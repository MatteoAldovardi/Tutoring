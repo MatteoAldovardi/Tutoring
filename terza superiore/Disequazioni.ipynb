{
 "cells": [
  {
   "cell_type": "markdown",
   "id": "a36183c6-514a-4ad9-81e8-4611d7f671ed",
   "metadata": {},
   "source": [
    "# Disequazioni\n",
    "\n",
    "### Definizione di disequazione:\n",
    "Una disequazione è una disuguaglianza tra due espressioni algebriche. A differenza delle equazioni, dove cerchiamo i valori che rendono uguali due espressioni, nelle disequazioni cerchiamo i valori che soddisfano una relazione di maggiore ($>$), minore ($<$), maggiore o uguale ($\\geq$), o minore o uguale ($\\leq$) tra due espressioni.\n",
    "\n",
    "\n",
    "Le disequazioni sono fondamentali per rappresentare vincoli matematici e situazioni del mondo reale dove si cercano valori all'interno di certi limiti piuttosto che valori esatti.\n",
    "### Gli intervalli:\n",
    "Gli intervalli rappresentano insiemi di numeri reali compresi tra due valori. Sono essenziali per esprimere le soluzioni delle disequazioni.\n",
    "**Notazione degli intervalli:**\n",
    "\n",
    "Intervallo **aperto**: $(a, b) = {x \\in \\mathbb{R} \\mid a < x < b}$\n",
    "Intervallo **chiuso**: $[a, b] = {x \\in \\mathbb{R} \\mid a \\leq x \\leq b}$\n",
    "Intervallo **semiaperto**: $[a, b) = {x \\in \\mathbb{R} \\mid a \\leq x < b}$ oppure $(a, b] = {x \\in \\mathbb{R} \\mid a < x \\leq b}$\n",
    "Intervallo **illimitato a sinistra**: $(-\\infty, b)$ oppure $(-\\infty, b]$\n",
    "Intervallo **illimitato a destra**: $(a, +\\infty)$ oppure $[a, +\\infty)$\n",
    "\n",
    "## Rappresentazione grafica:\n",
    "Gli intervalli possono essere rappresentati graficamente sulla retta reale, utilizzando parentesi tonde per estremi esclusi e parentesi quadre per estremi inclusi.\n",
    "\n",
    "![Rappresentazione Grafica](immagini/intervalli-retta-reale.svg)\n"
   ]
  },
  {
   "cell_type": "markdown",
   "id": "4b66acf5-3b03-439d-a545-70a537b85b12",
   "metadata": {},
   "source": [
    "## Disequazioni di primo grado\n",
    "Le disequazioni di primo grado hanno la forma $ax + b > 0$ (o $<$, $\\geq$, $\\leq$).\n",
    "Metodo di risoluzione:\n",
    "\n",
    "**Possibile Metodo di Risoluzione:**\n",
    "Riportare tutti i termini con la $x$ a sinistra dell'operatore di disuguaglianza\n",
    "Ridurre a forma normale ($ax + b > 0$)\n",
    "Dividere per il coefficiente $a$, prestando attenzione al verso della disuguaglianza se $a < 0$\n",
    "\n",
    "Esempio:\n",
    "$$\n",
    "\\begin{gather*}\n",
    "2x + 3 > 7 \\quad  (\\text{sottrai tre ad entrambi i membri} \\quad 3)\\\\\n",
    "2x + 3 - 3 > 7 - 3 \\\\\n",
    "2x > 4 \\quad (\\text{moltiplica per} \\quad \\dfrac{1}{2}) \\\\\n",
    "\\dfrac{1}{2} \\cdot (2x) > \\dfrac{1}{2} \\cdot 4 \\\\\n",
    "x > 2\n",
    "\\end{gather*}\n",
    "$$\n",
    "Soluzione: $x \\in (2, +\\infty)$\n"
   ]
  },
  {
   "cell_type": "markdown",
   "id": "f1fae500-5e58-4a04-b579-0f8ec8c420c5",
   "metadata": {},
   "source": [
    "# Disequazioni di primo grado e bilance (e misurazioni in generale )\n",
    "\n",
    "\n",
    "Una disequazione di primo grado può essere immaginata come una bilancia non in equilibrio. L'obiettivo è isolare la variabile x per determinare l'intervallo di valori che la soddisfano.\n",
    "\n",
    "Esempio: $2x+3>7$\n",
    "### Passaggio 1: Rappresentazione iniziale\n",
    "\n",
    "Immagina una bilancia con:\n",
    "\n",
    "Sul piatto di sinistra: due scatole etichettate \"x\" (rappresentanti 2x) e tre pesi (rappresentanti +3).\n",
    "Sul piatto di destra: sette pesi (rappresentanti 7).\n",
    "La bilancia è sbilanciata, con il piatto di destra più pesante.\n",
    "\n",
    "Immagine: (Una bilancia sbilanciata, con due scatole \"x\" e tre pesi a sinistra, e sette pesi a destra)\n",
    "\n",
    "### Passaggio 2: Sottrazione di 3 da entrambi i membri\n",
    "\n",
    "Per mantenere la bilancia \"in disequilibrio\" (cioè, per preservare la disuguaglianza), dobbiamo togliere lo stesso peso da entrambi i piatti. Togliamo tre pesi da ciascun piatto.\n",
    "\n",
    "A sinistra: rimangono le due scatole \"x\".\n",
    "A destra: rimangono quattro pesi.\n",
    "Matematicamente:\n",
    "\n",
    "$$2x+3−3>7−3 \\Rightarrow 2x>4$$\n",
    "\n",
    "\n",
    "\n",
    "Immagine: (La bilancia con due scatole \"x\" a sinistra e quattro pesi a destra)\n",
    "\n",
    "Passaggio 3: Divisione per 2 (o moltiplicazione per 1/2)\n",
    "\n",
    "Ora, vogliamo isolare il peso di una singola scatola \"x\". Possiamo dividere il peso su entrambi i piatti per 2.\n",
    "\n",
    "A sinistra: rimane una scatola \"x\".\n",
    "A destra: rimangono due pesi.\n",
    "Matematicamente:\n",
    "\n",
    "$$ \\dfrac{1}{2} \\cdot (2x) > \\dfrac{1}{2} \\cdot 4 \\Rightarrow x > 2.$$\n",
    "\n",
    "\n",
    "\n",
    "Immagine: (La bilancia con una scatola \"x\" a sinistra e due pesi a destra)\n",
    "\n",
    "### Soluzione\n",
    "\n",
    "La soluzione $x>2$ significa che qualsiasi valore di $x$ maggiore di $2$ manterrà la bilancia sbilanciata nel modo originale. In termini di intervalli, la soluzione è $x \\in (2,+\\infty)$.\n",
    "\n",
    "## Considerazioni aggiuntive\n",
    "L'analogia con le bilance ha i suoi limiti, in particolare con i numeri negativi, ma la trovo comunque utile perché concreta. Inoltre, aiuta a ricordare alcune proprietà fondamentali delle disuguaglianze:\n",
    "\n",
    "Moltiplicare per un numero positivo mantiene il verso della disuguaglianza:\n",
    "Se ho due pesi $x$ e $y$ con $x < y$, allora la disuguaglianza rimane valida anche raddoppiando entrambe le quantità:\n",
    "\n",
    "$2⋅x<2⋅y$\n",
    "\n",
    "Aggiungere o sottrarre la stessa quantità a entrambi i membri mantiene il verso della disuguaglianza:\n",
    "Se $x < y$, allora per qualsiasi numero $c$ vale\n",
    "\n",
    "$x+c<y+c$\n",
    "\n",
    "Attraverso l'analogia della bilancia, abbiamo risolto una disequazione di primo grado. Non è un caso che l'analogia che abbiamo fatto sia legata ad una misurazione. Infatti, i numeri reali sono nati e si sono sviluppati come lo strumento matematico ideale per misurare. La loro formalizzazione, avvenuta nell'Ottocento, coincide con l'apice dello sviluppo della fisica classica, evidenziando un legame indissolubile tra matematica e la nostra comprensione del mondo fisico. Per approfondire, puoi consultare la pagina di Wikipedia sui numeri reali: [Real number](https://en.wikipedia.org/wiki/Real_number)"
   ]
  },
  {
   "cell_type": "markdown",
   "id": "4f588fa0-5a8c-4b41-952a-ff545fc2cb43",
   "metadata": {},
   "source": [
    "### Risoluzione simbolica al computer:\n",
    "Alcuni linguaggi di programmazione come il python consentono la risoluzione simbolica di disequazioni. Tutte le funzioni per risolvere le disequazioni sono contenute nella libreria **sympy**."
   ]
  },
  {
   "cell_type": "code",
   "execution_count": 12,
   "id": "f270437a-e942-46c5-b241-579ba016d732",
   "metadata": {},
   "outputs": [
    {
     "data": {
      "text/latex": [
       "$\\displaystyle \\text{Disequazione: } 2 x + 3 > 7$"
      ],
      "text/plain": [
       "<IPython.core.display.Math object>"
      ]
     },
     "metadata": {},
     "output_type": "display_data"
    },
    {
     "data": {
      "text/latex": [
       "$\\displaystyle \\text{Soluzione: } 2 < x \\wedge x < \\infty$"
      ],
      "text/plain": [
       "<IPython.core.display.Math object>"
      ]
     },
     "metadata": {},
     "output_type": "display_data"
    },
    {
     "data": {
      "text/latex": [
       "$\\displaystyle \\text{Disequazione: } x + 3 > 7$"
      ],
      "text/plain": [
       "<IPython.core.display.Math object>"
      ]
     },
     "metadata": {},
     "output_type": "display_data"
    },
    {
     "data": {
      "text/latex": [
       "$\\displaystyle \\text{Soluzione: } 4 < x \\wedge x < \\infty$"
      ],
      "text/plain": [
       "<IPython.core.display.Math object>"
      ]
     },
     "metadata": {},
     "output_type": "display_data"
    },
    {
     "data": {
      "text/latex": [
       "$\\displaystyle \\text{Disequazione: } 3 x - 4 \\leq 5$"
      ],
      "text/plain": [
       "<IPython.core.display.Math object>"
      ]
     },
     "metadata": {},
     "output_type": "display_data"
    },
    {
     "data": {
      "text/latex": [
       "$\\displaystyle \\text{Soluzione: } x \\leq 3 \\wedge -\\infty < x$"
      ],
      "text/plain": [
       "<IPython.core.display.Math object>"
      ]
     },
     "metadata": {},
     "output_type": "display_data"
    },
    {
     "data": {
      "text/latex": [
       "$\\displaystyle \\text{Disequazione: } x^{2} - 3 > 0$"
      ],
      "text/plain": [
       "<IPython.core.display.Math object>"
      ]
     },
     "metadata": {},
     "output_type": "display_data"
    },
    {
     "data": {
      "text/latex": [
       "$\\displaystyle \\text{Soluzione: } \\left(-\\infty < x \\wedge x < - \\sqrt{3}\\right) \\vee \\left(\\sqrt{3} < x \\wedge x < \\infty\\right)$"
      ],
      "text/plain": [
       "<IPython.core.display.Math object>"
      ]
     },
     "metadata": {},
     "output_type": "display_data"
    }
   ],
   "source": [
    "import sympy as sp\n",
    "from sympy import symbols, solve_univariate_inequality, latex\n",
    "from IPython.display import display, Math\n",
    "\n",
    "def risolvi_disequazione_e_mostra_latex(disequazione):\n",
    "    \"\"\"\n",
    "    Risolve una disequazione e mostra la soluzione come formula LaTeX.\n",
    "\n",
    "    Args:\n",
    "        disequazione (str): La disequazione da risolvere (es. \"2*x + 3 > 7\").\n",
    "    \"\"\"\n",
    "    x = symbols('x')\n",
    "    try:\n",
    "        disequazione_sympy = sp.parse_expr(disequazione)\n",
    "        soluzione = solve_univariate_inequality(disequazione_sympy, x)\n",
    "\n",
    "        # Converti la soluzione in LaTeX\n",
    "        soluzione_latex = latex(soluzione)\n",
    "\n",
    "        # Mostra la disequazione originale e la soluzione come LaTeX\n",
    "        display(Math(f\"\\\\text{{Disequazione: }} {latex(disequazione_sympy)}\"))\n",
    "        display(Math(f\"\\\\text{{Soluzione: }} {soluzione_latex}\"))\n",
    "\n",
    "    except Exception as e:\n",
    "        print(f\"Errore: {e}\")\n",
    "\n",
    "# Esempi di utilizzo\n",
    "risolvi_disequazione_e_mostra_latex(\"2*x + 3 > 7\")\n",
    "risolvi_disequazione_e_mostra_latex(\"x + 3 > 7\")\n",
    "risolvi_disequazione_e_mostra_latex(\"3*x - 4 <= 5\")\n",
    "risolvi_disequazione_e_mostra_latex(\"x**2 - 3 > 0\")"
   ]
  },
  {
   "cell_type": "markdown",
   "id": "250906eb-6baf-4f27-a639-f90eaf29a3d2",
   "metadata": {},
   "source": [
    "# Disequazioni di secondo grado"
   ]
  },
  {
   "cell_type": "markdown",
   "id": "0fd826d8-e27a-4576-a528-1d186f6988a8",
   "metadata": {},
   "source": [
    "\n",
    "Le disequazioni di secondo grado hanno la forma $ax^2 + bx + c > 0$ (o $<$, $\\geq$, $\\leq$).\n",
    "Metodo di risoluzione:\n",
    "\n",
    "Calcolare il discriminante $\\Delta = b^2 - 4ac$\n",
    "Trovare gli eventuali zeri $x_1$ e $x_2$ del trinomio\n",
    "Analizzare il segno del trinomio negli intervalli determinati dagli zeri.\n",
    "\n",
    "\n",
    "Casi possibili:\n",
    "\n",
    "Se $\\Delta < 0$: il trinomio non ha zeri reali e mantiene lo stesso segno di $a$\n",
    "Se $\\Delta = 0$: il trinomio ha uno zero doppio $x_0 = -b/(2a)$ e mantiene lo stesso segno di $a$ tranne in $x_0$\n",
    "Se $\\Delta > 0$: il trinomio ha due zeri distinti $x_1 < x_2$ e:\n",
    "\n",
    "Se $a > 0$: il trinomio è negativo per $x \\in (x_1, x_2)$ e positivo altrove\n",
    "Se $a < 0$: il trinomio è positivo per $x \\in (x_1, x_2)$ e negativo altrove\n"
   ]
  },
  {
   "cell_type": "markdown",
   "id": "e26f6ca8-45d2-43a8-bb9d-af5b2a7adcdc",
   "metadata": {},
   "source": [
    "# Disequazioni fratte:"
   ]
  },
  {
   "cell_type": "markdown",
   "id": "ec84408a-8960-446d-8865-5f39f2f59a03",
   "metadata": {},
   "source": [
    "Disequazioni fratte\n",
    "Le disequazioni fratte contengono frazioni algebriche e hanno la forma $\\frac{N(x)}{D(x)} > 0$ (o $<$, $\\geq$, $\\leq$).\n",
    "Metodo di risoluzione:\n",
    "\n",
    "Studiare separatamente il segno del numeratore $N(x)$ e del denominatore $D(x)$\n",
    "Trovare gli zeri del numeratore e del denominatore\n",
    "Costruire una tabella dei segni per determinare il segno del rapporto $\\frac{N(x)}{D(x)}$\n",
    "Prestare attenzione ai valori che annullano il denominatore: sono esclusi dal dominio\n",
    "\n",
    "Nota importante: Nelle disequazioni fratte, i valori che annullano il denominatore devono essere esclusi dalla soluzione finale.\n",
    "Disequazioni potenza\n",
    "Sono disequazioni che contengono espressioni elevate a potenza, ad esempio $[f(x)]^n > 0$.\n",
    "Metodo di risoluzione:\n",
    "\n",
    "Se $n$ è pari:\n",
    "\n",
    "$[f(x)]^n > 0$ è sempre verificata eccetto quando $f(x) = 0$\n",
    "$[f(x)]^n < 0$ non ha soluzioni\n",
    "\n",
    "\n",
    "Se $n$ è dispari:\n",
    "\n",
    "$[f(x)]^n > 0$ quando $f(x) > 0$\n",
    "$[f(x)]^n < 0$ quando $f(x) < 0$\n",
    "\n",
    "\n",
    "\n",
    "Disequazioni irrazionali\n",
    "Le disequazioni irrazionali contengono espressioni con radicali, ad esempio $\\sqrt{f(x)} > g(x)$.\n",
    "Metodo di risoluzione:\n",
    "\n",
    "Verificare il dominio della disequazione (assicurarsi che le espressioni sotto radice siano non negative)\n",
    "Per $\\sqrt{f(x)} > g(x)$:\n",
    "\n",
    "Se $g(x) < 0$: risolvi $f(x) \\geq 0$\n",
    "Se $g(x) \\geq 0$: eleva al quadrato e risolvi $f(x) > [g(x)]^2$\n",
    "\n",
    "\n",
    "Prestare attenzione quando si eleva al quadrato: questo passaggio può introdurre soluzioni estranee\n",
    "\n",
    "Nota: Quando si eleva al quadrato, è necessario verificare le soluzioni ottenute nel dominio originale della disequazione.\n",
    "Sistemi di disequazioni\n",
    "Un sistema di disequazioni è un insieme di due o più disequazioni che devono essere verificate simultaneamente.\n",
    "Metodo di risoluzione:\n",
    "\n",
    "Risolvere ogni disequazione separatamente\n",
    "Trovare l'intersezione degli insiemi soluzione\n",
    "\n",
    "Esempio:\n",
    "$\\begin{cases}\n",
    "x - 1 > 0 \\\n",
    "2x + 3 \\leq 7\n",
    "\\end{cases}$\n",
    "Risolvendo: $\\begin{cases}\n",
    "x > 1 \\\n",
    "x \\leq 2\n",
    "\\end{cases}$\n",
    "Soluzione: $x \\in (1, 2]$\n",
    "Disequazioni in valore assoluto\n",
    "Le disequazioni con valore assoluto contengono espressioni del tipo $|f(x)| > k$ o $|f(x)| < k$.\n",
    "Metodo di risoluzione:\n",
    "\n",
    "Per $|f(x)| < k$ (con $k > 0$):\n",
    "\n",
    "Equivale a: $-k < f(x) < k$\n",
    "\n",
    "\n",
    "Per $|f(x)| > k$ (con $k > 0$):\n",
    "\n",
    "Equivale a: $f(x) < -k$ oppure $f(x) > k$\n",
    "\n",
    "\n",
    "Per $|f(x)| < k$ (con $k \\leq 0$):\n",
    "\n",
    "Non ha soluzioni\n",
    "\n",
    "\n",
    "Per $|f(x)| > k$ (con $k < 0$):\n",
    "\n",
    "È verificata per ogni $x$ nel dominio di $f(x)$\n",
    "\n",
    "\n",
    "\n",
    "Esempio:\n",
    "$|x - 3| < 2$ equivale a: $1 < x < 5$\n",
    "$|x + 1| > 3$ equivale a: $x < -4$ oppure $x > 2$"
   ]
  }
 ],
 "metadata": {
  "kernelspec": {
   "display_name": "Python 3 (ipykernel)",
   "language": "python",
   "name": "python3"
  },
  "language_info": {
   "codemirror_mode": {
    "name": "ipython",
    "version": 3
   },
   "file_extension": ".py",
   "mimetype": "text/x-python",
   "name": "python",
   "nbconvert_exporter": "python",
   "pygments_lexer": "ipython3",
   "version": "3.12.7"
  }
 },
 "nbformat": 4,
 "nbformat_minor": 5
}
