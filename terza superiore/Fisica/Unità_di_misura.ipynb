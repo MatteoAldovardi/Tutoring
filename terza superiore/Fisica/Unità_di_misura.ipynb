{
 "cells": [
  {
   "cell_type": "markdown",
   "id": "4d614ffc-3920-4df8-bd3c-899dce111567",
   "metadata": {},
   "source": [
    "# Unità di misura in fisica"
   ]
  },
  {
   "cell_type": "markdown",
   "id": "7ae27f09-23ac-4a21-bcab-7e427ce59fb1",
   "metadata": {},
   "source": [
    "### Introduzione\n",
    "\n",
    "La fisica, in quanto scienza che studia i fenomeni naturali, necessita di un linguaggio preciso e condiviso per descrivere e quantificare le grandezze fisiche. Le unità di misura forniscono questo linguaggio, permettendoci di esprimere in modo univoco il valore di una grandezza.\n",
    "\n",
    "### Grandezze fisiche e unità di misura\n",
    "Una grandezza fisica è una proprietà di un fenomeno naturale che può essere misurata. La misura di una grandezza consiste nel confrontarla con un'unità di misura, ovvero una quantità campione della stessa grandezza.\n",
    "\n",
    "**Sistema Internazionale di unità di misura (SI)**\n",
    "Il Sistema Internazionale (SI) è il sistema di unità di misura più diffuso al mondo. Si basa sulla definizione di sette **grandezze fondamentali** e le relative unità di misura:\n",
    "\n",
    "- **Lunghezza**: metro (m)\n",
    "- **Massa**: chilogrammo (kg)\n",
    "- **Tempo**: secondo (s)\n",
    "- **Corrente elettrica**: ampere (A)\n",
    "- **Temperatura termodinamica**: kelvin (K)\n",
    "- **Quantità di sostanza**: mole (mol)\n",
    "- **Intensità luminosa**: candela1 (cd)   \n",
    "\n",
    "Queste unità di misura fondamentali sono definite tramite una procedura in teoria riproducibile da qualunque scienziato.\n",
    "\n",
    "**Esempi (curiosità)**\n",
    "\n",
    "- **Secondo (s)**: La durata di $9.192.631.770$ periodi della radiazione corrispondente alla transizione tra i due livelli iperfini dello stato fondamentale dell'atomo di cesio-$133$.   \n",
    "- **Metro (m)**: La distanza percorsa dalla luce nel vuoto in $1/299.792.458$ di secondo.\n",
    "\n",
    "**NB**:\n",
    "\n",
    "Perché nelle definizioni ci sono dei numeri che sembrano così arbitrari? La risposta non è semplice e oltre che di **grandezze fondamentali** bisognerebbe anche parlare di **costanti fondamentali**.\n",
    "\n",
    "Dalle **grandezze fondamentali** si ottengono altre **grandezze derivate** combinando le unità delle **grandezze fondamentali**. Ad esempio, l'unità di misura della **velocità** è il **metro al secondo (m/s)**."
   ]
  },
  {
   "cell_type": "markdown",
   "id": "0110ba43-c4f6-4252-a99e-72ff9809ba12",
   "metadata": {},
   "source": [
    "\n",
    "\n",
    "### Introduzione\n",
    "\n",
    "La fisica, in quanto scienza che studia i fenomeni naturali, necessita di un linguaggio preciso e condiviso per descrivere e quantificare le grandezze fisiche. Le unità di misura forniscono questo linguaggio, permettendoci di esprimere in modo univoco il valore di una grandezza.\n",
    "\n",
    "### Grandezze fisiche e unità di misura\n",
    "Una grandezza fisica è una proprietà di un fenomeno naturale che può essere misurata. La misura di una grandezza consiste nel confrontarla con un'unità di misura, ovvero una quantità campione della stessa grandezza.\n",
    "\n",
    "**Sistema Internazionale di unità di misura (SI)**\n",
    "Il Sistema Internazionale (SI) è il sistema di unità di misura più diffuso al mondo. Si basa sulla definizione di sette **grandezze fondamentali** e le relative unità di misura:\n",
    "\n",
    "- **Lunghezza**: metro (m)\n",
    "- **Massa**: chilogrammo (kg)\n",
    "- **Tempo**: secondo (s)\n",
    "- **Corrente elettrica**: ampere (A)\n",
    "- **Temperatura termodinamica**: kelvin (K)\n",
    "- **Quantità di sostanza**: mole (mol)\n",
    "- **Intensità luminosa**: candela1 (cd)   \n",
    "\n",
    "Queste unità di misura fondamentali sono definite tramite una procedura in teoria riproducibile da qualunque scienziato.\n",
    "\n",
    "**Esempi (curiosità)**\n",
    "\n",
    "- **Secondo (s)**: La durata di $9.192.631.770$ periodi della radiazione corrispondente alla transizione tra i due livelli iperfini dello stato fondamentale dell'atomo di cesio-$133$.   \n",
    "- **Metro (m)**: La distanza percorsa dalla luce nel vuoto in $1/299.792.458$ di secondo.\n",
    "\n",
    "**NB**:\n",
    "\n",
    "Perché nelle definizioni ci sono dei numeri che sembrano così arbitrari? La risposta non è semplice e oltre che di **grandezze fondamentali** bisognerebbe anche parlare di **costanti fondamentali**.\n",
    "\n",
    "Dalle **grandezze fondamentali** si ottengono altre **grandezze derivate** combinando le unità delle **grandezze fondamentali**. Ad esempio, l'unità di misura della **velocità** è il **metro al secondo (m/s)**."
   ]
  },
  {
   "cell_type": "code",
   "execution_count": 2,
   "id": "98cfa5f1-fe98-434f-b60d-f97cf3a8ef23",
   "metadata": {
    "jupyter": {
     "source_hidden": true
    }
   },
   "outputs": [
    {
     "data": {
      "application/vnd.jupyter.widget-view+json": {
       "model_id": "fb264c5c1a46423fb7188b240cf3f9f5",
       "version_major": 2,
       "version_minor": 0
      },
      "text/plain": [
       "HTML(value='<h2>Esercizio 1</h2>')"
      ]
     },
     "metadata": {},
     "output_type": "display_data"
    },
    {
     "data": {
      "application/vnd.jupyter.widget-view+json": {
       "model_id": "c33bbcb5b8b3436493c504cf8b6f4ae2",
       "version_major": 2,
       "version_minor": 0
      },
      "text/plain": [
       "RadioButtons(description='6 m/s', options=('Fondamentale', 'Derivata'), value='Fondamentale')"
      ]
     },
     "metadata": {},
     "output_type": "display_data"
    },
    {
     "data": {
      "application/vnd.jupyter.widget-view+json": {
       "model_id": "84240d638a4d4a319ba81b51d94a507f",
       "version_major": 2,
       "version_minor": 0
      },
      "text/plain": [
       "RadioButtons(description='10 kg', options=('Fondamentale', 'Derivata'), value='Fondamentale')"
      ]
     },
     "metadata": {},
     "output_type": "display_data"
    },
    {
     "data": {
      "application/vnd.jupyter.widget-view+json": {
       "model_id": "50c0f62e6b0e41a9b92ba25d0d3a22e3",
       "version_major": 2,
       "version_minor": 0
      },
      "text/plain": [
       "RadioButtons(description='25 N (Newton)', options=('Fondamentale', 'Derivata'), value='Fondamentale')"
      ]
     },
     "metadata": {},
     "output_type": "display_data"
    },
    {
     "data": {
      "application/vnd.jupyter.widget-view+json": {
       "model_id": "266786a1664a428eb97cd86968693c17",
       "version_major": 2,
       "version_minor": 0
      },
      "text/plain": [
       "RadioButtons(description='2 s', options=('Fondamentale', 'Derivata'), value='Fondamentale')"
      ]
     },
     "metadata": {},
     "output_type": "display_data"
    },
    {
     "data": {
      "application/vnd.jupyter.widget-view+json": {
       "model_id": "f6f5889341af4d458f67f314f5d0fbbf",
       "version_major": 2,
       "version_minor": 0
      },
      "text/plain": [
       "RadioButtons(description='300 K', options=('Fondamentale', 'Derivata'), value='Fondamentale')"
      ]
     },
     "metadata": {},
     "output_type": "display_data"
    },
    {
     "data": {
      "application/vnd.jupyter.widget-view+json": {
       "model_id": "bd83865fde274b878dc424788eae4dcc",
       "version_major": 2,
       "version_minor": 0
      },
      "text/plain": [
       "RadioButtons(description='5 m³', options=('Fondamentale', 'Derivata'), value='Fondamentale')"
      ]
     },
     "metadata": {},
     "output_type": "display_data"
    },
    {
     "data": {
      "application/vnd.jupyter.widget-view+json": {
       "model_id": "24e8238c6463419cb1c9535829c4973d",
       "version_major": 2,
       "version_minor": 0
      },
      "text/plain": [
       "Button(description='Verifica Risposte', style=ButtonStyle())"
      ]
     },
     "metadata": {},
     "output_type": "display_data"
    },
    {
     "data": {
      "application/vnd.jupyter.widget-view+json": {
       "model_id": "f8de101838184138b6293bb170439e0f",
       "version_major": 2,
       "version_minor": 0
      },
      "text/plain": [
       "Output()"
      ]
     },
     "metadata": {},
     "output_type": "display_data"
    }
   ],
   "source": [
    "import ipywidgets as widgets\n",
    "from IPython.display import display, clear_output\n",
    "\n",
    "# Testatina\n",
    "testatina = widgets.HTML(value=\"<h2>Esercizio 1</h2>\")\n",
    "display(testatina)\n",
    "\n",
    "# Definisci le domande e le risposte corrette\n",
    "domande = {\n",
    "    \"6 m/s\": \"Derivata\",\n",
    "    \"10 kg\": \"Fondamentale\",\n",
    "    \"25 N (Newton)\": \"Derivata\",\n",
    "    \"2 s\": \"Fondamentale\",\n",
    "    \"300 K\": \"Fondamentale\",\n",
    "    \"5 m³\": \"Derivata\"\n",
    "}\n",
    "\n",
    "# Crea i widget per le domande\n",
    "widget_domande = {}\n",
    "for domanda in domande:\n",
    "    widget_domande[domanda] = widgets.RadioButtons(\n",
    "        options=['Fondamentale', 'Derivata'],\n",
    "        description=domanda,\n",
    "        disabled=False\n",
    "    )\n",
    "\n",
    "# Crea il pulsante di verifica\n",
    "pulsante_verifica = widgets.Button(description=\"Verifica Risposte\")\n",
    "output = widgets.Output()\n",
    "\n",
    "# Funzione per verificare le risposte\n",
    "def verifica_risposte(b):\n",
    "    with output:\n",
    "        clear_output()\n",
    "        corrette = 0\n",
    "        totali = 0\n",
    "        for domanda, widget in widget_domande.items():\n",
    "            if widget.value == domande[domanda]:\n",
    "                corrette += 1\n",
    "            totali += 1\n",
    "        print(f\"Hai risposto correttamente a {corrette} domande su {totali}.\")\n",
    "\n",
    "pulsante_verifica.on_click(verifica_risposte)\n",
    "\n",
    "# Mostra i widget\n",
    "for widget in widget_domande.values():\n",
    "    display(widget)\n",
    "display(pulsante_verifica, output)"
   ]
  },
  {
   "cell_type": "markdown",
   "id": "2ba0cf32-204d-4859-a81b-2850e92805a5",
   "metadata": {},
   "source": [
    "\n",
    "## Multipli e sottomultipli\n",
    "Per esprimere grandezze molto grandi o molto piccole, si utilizzano i multipli e i sottomultipli delle unità di misura. I multipli e i sottomultipli sono indicati da prefissi, che precedono il simbolo dell'unità di misura. Ad esempio:\n",
    "\n",
    "- **Chilometro (km):** $1 \\mathcal{km} = 1000 \\ \\mathcal{m}$\n",
    "- **Millimetro (mm)**: $1 \\mathcal{mm} = 0,001 \\ \\mathcal{m}$\n",
    "\n",
    "\n",
    "## Prefissi delle unità di misura\n",
    "\n",
    "| Prefisso | Simbolo | Fattore moltiplicativo | Ordine di grandezza a spanne |\n",
    "| --- | --- | --- | --- |\n",
    "| yotta | Y | $10^{24}$ |  |\n",
    "| zetta | Z | $10^{21}$ |  |\n",
    "| exa | E | $10^{18}$ |  |\n",
    "| peta | P | $10^{15}$ | Qui mi fermo perché gli esempi cominciano comunque a essere poco significativi. Se ne potrebbero fare tanti nel campo dell'informatica in cui i volumi di dati crescono di anno in anno e già oggi i data centers trattano volumi di dati degli ordini delle centinaia di **zettabytes** |\n",
    "| tera | T | $10^{12}$ | Capacità di un grande hard disk |\n",
    "| giga | G | $10^9$ | 10 volte la distanza media tra Terra e Luna |\n",
    "| mega | M | $10^6$ | Distanza Massa-Carrara - Madrid |\n",
    "| kilo | k | $10^3$ | Distanza Massa Centro-Marina |\n",
    "| hecto | h | $10^2$ | Lunghezza campo da calcio  |\n",
    "| deca | da | $10^1$ | Distanza tra il cancello e l'entrata del Liceo Scientifico |\n",
    "| deci | d | $10^{-1}$ | Lunghezza di una spanna |\n",
    "| centi | c | $10^{-2}$ | Dimensione di un cubetto di ghiaccio |\n",
    "| milli | m | $10^{-3}$ | Tolleranza tipica in disegno tecnico |\n",
    "| micro | µ | $10^{-6}$ | Dimensioni osservabili con microscopio ottico |\n",
    "| nano | n | $10^{-9}$ | Distanze a cui sono stipati i transistor sui chip, i nanometri sono sempre più importanti nel progresso tecnologico |\n",
    "| pico | p | $10^{-12}$ |  |\n",
    "| femto | f | $10^{-15}$ |  |\n",
    "| atto | a | $10^{-18}$ |  |\n",
    "| zepto | z | $10^{-21}$ |  |\n",
    "| yocto | y | $10^{-24}$ |  |\n",
    "\n",
    "\n"
   ]
  },
  {
   "cell_type": "markdown",
   "id": "a59e1276-1a3a-4ac6-86f0-1175b56ce2da",
   "metadata": {},
   "source": [
    "### To be completed:\n"
   ]
  },
  {
   "cell_type": "markdown",
   "id": "55d33215-d809-4e25-84a6-252ce7bde993",
   "metadata": {},
   "source": [
    "## Notazione scientifica\n",
    "\n",
    "La notazione scientifica è un modo compatto per scrivere numeri molto grandi o molto piccoli. Un numero in notazione scientifica è scritto come il prodotto di un numero compreso tra 1 e 10 e una potenza di 10. Ad esempio:\n",
    "\n",
    "$$\n",
    "\\begin{gather*}\n",
    "300.000.000 m/s = 3 \\times 10^8 m/s \\\\\n",
    "0,000000001 m = 1 \\times 10^{-9} m\n",
    "\\end{gather*}\n",
    "$$\n",
    "\n",
    "## Conclusioni\n",
    "\n",
    "Le unità di misura permettono di esprimere in modo preciso e univoco il valore delle grandezze fisiche. Il Sistema Internazionale (SI) è il sistema di unità di misura più diffuso al mondo e fornisce un linguaggio comune per la comunità scientifica.\n"
   ]
  },
  {
   "cell_type": "code",
   "execution_count": null,
   "id": "ead42a3c-1c35-46f3-bce2-890dc7b16b52",
   "metadata": {},
   "outputs": [],
   "source": []
  }
 ],
 "metadata": {
  "kernelspec": {
   "display_name": "Python 3 (ipykernel)",
   "language": "python",
   "name": "python3"
  },
  "language_info": {
   "codemirror_mode": {
    "name": "ipython",
    "version": 3
   },
   "file_extension": ".py",
   "mimetype": "text/x-python",
   "name": "python",
   "nbconvert_exporter": "python",
   "pygments_lexer": "ipython3",
   "version": "3.12.7"
  }
 },
 "nbformat": 4,
 "nbformat_minor": 5
}
