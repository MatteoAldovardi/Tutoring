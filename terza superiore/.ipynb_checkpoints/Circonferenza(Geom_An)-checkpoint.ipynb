{
 "cells": [
  {
   "cell_type": "markdown",
   "id": "342d67b3-3035-43d7-8214-e1da8acbef48",
   "metadata": {},
   "source": [
    "# Equazione della Circonferenza\n",
    "\n",
    "## Introduzione\n",
    "La **circonferenza** è il luogo geometrico dei punti del piano che hanno una distanza costante, detta **raggio** $r$, da un punto fisso chiamato **centro** $(x_0, y_0)$. La sua equazione si ottiene dalla definizione di distanza.\n",
    "\n",
    "\n",
    "![Circonferenza](immagini/circonferenza.png)\n",
    "\n",
    "\n",
    "\n",
    "## Equazione generale della circonferenza\n",
    "L'equazione di una circonferenza con centro $ (x_0, y_0) $ e raggio $ r $ è data da:\n",
    "$$\n",
    "(x - x_0)^2 + (y - y_0)^2 = r^2,\n",
    "$$\n",
    "come suggerisce la figura sopra, l'equazione è una conseguenza della definizione di circonferenza e dell'applicazione del teorema di Pitagora per il calcolo della distanza fra due punti.\n",
    "\n",
    "L'equazione si può anche sviluppare e scrivere:\n",
    "$$\n",
    "x^2 - 2 \\cdot x \\cdot x_0 + x_0^2  + y^2 - 2 \\cdot y \\cdot y_0 + y_0^2 = r^2 \\quad (1)\n",
    "$$\n",
    "e raccogliendo i termini simili si ottiene:\n",
    "$$\n",
    "x^2 + y^2 - 2 \\cdot x \\cdot x_0 - 2 \\cdot y \\cdot y_0 + x_0^2 + y_0^2 - r^2 = 0.\n",
    "$$\n",
    "Se definiamo $a := -2x_0$, $b := -2y_0$ e $c := x_0^2 + y_0^2 - r^2$, otteniamo l'altra forma dell'equazione della circonferenza:\n",
    "$$\n",
    "x^2 + y^2 + a \\cdot x + b \\cdot y + c = 0 \\quad (2).\n",
    "$$\n",
    "Sia l'equazione nella forma (1) che l'equazione (2) hanno tre incognite. Nel caso di (1) le incognite sono $x_0, y_0, r$. Nel caso di (2) le incognite sono $a, b, c$.\n",
    "\n",
    "### Conseguenza:\n",
    "Per determinare i coefficienti dell'equazione (1) o dell'equazione (2) servono almeno tre punti (per il principio che per tre incognite sono necessarie almeno tre equazioni). Più precisamente, vale il seguente risultato:\n",
    "\n",
    "* per tre punti non allineati passa una e una sola circonferenza.\n",
    "\n",
    "Inoltre, l'equazione (1) ci suggerisce che per determinare la circonferenza sono sufficienti il raggio e il centro."
   ]
  },
  {
   "cell_type": "markdown",
   "id": "e6f32ea4-3e31-4dac-98f8-fb4e6dfd3d89",
   "metadata": {},
   "source": [
    "### Esempio 1: Ricavare l'equazione della circonferenza con centro e raggio noti\n",
    "\n",
    "Supponiamo di avere una circonferenza con:\n",
    "\n",
    "* Centro: $(x_0, y_0) = (2, -3)$\n",
    "* Raggio: $r = 5$\n",
    "\n",
    "Vogliamo trovare l'equazione della circonferenza nella forma:\n",
    "\n",
    "$$(x - x_0)^2 + (y - y_0)^2 = r^2$$\n",
    "\n",
    "**Soluzione**\n",
    "\n",
    "1.  **Sostituiamo i valori noti nell'equazione:**\n",
    "    $$(x - 2)^2 + (y - (-3))^2 = 5^2$$\n",
    "2.  **Semplifichiamo l'equazione:**\n",
    "    $$(x - 2)^2 + (y + 3)^2 = 25$$\n",
    "\n",
    "Quindi, l'equazione della circonferenza con centro (2, -3) e raggio 5 è:\n",
    "\n",
    "$$(x - 2)^2 + (y + 3)^2 = 25$$\n",
    "\n",
    "**Sviluppo dell'equazione (per ottenere la forma (2))**\n",
    "\n",
    "Se volessimo, potremmo anche sviluppare l'equazione per ottenere la forma (2):\n",
    "\n",
    "1.  **Espandiamo i quadrati:**\n",
    "    $$(x^2 - 4x + 4) + (y^2 + 6y + 9) = 25$$\n",
    "2.  **Raccogliamo i termini simili:**\n",
    "    $$x^2 + y^2 - 4x + 6y + 13 = 25$$\n",
    "3.  **Portiamo tutto sullo stesso lato:**\n",
    "    $$x^2 + y^2 - 4x + 6y - 12 = 0$$\n",
    "\n",
    "Ora abbiamo l'equazione nella forma (2), dove:\n",
    "\n",
    "* $a = -4$\n",
    "* $b = 6$\n",
    "* $c = -12$\n",
    "\n",
    "Questo esempio mostra come sia semplice ricavare l'equazione della circonferenza quando si conoscono il centro e il raggio, e come si possa passare dalla forma (1) alla forma (2) tramite semplici passaggi algebrici.\n"
   ]
  },
  {
   "cell_type": "markdown",
   "id": "af6d6d92-695f-4d3e-a300-21810d379fb4",
   "metadata": {},
   "source": [
    "### Esempio 2: Ricavare l'equazione della circonferenza dati tre punti\n",
    "\n",
    "Supponiamo di avere tre punti non allineati:\n",
    "\n",
    "* $A = (1, 2)$\n",
    "* $B = (5, 0)$\n",
    "* $C = (4, 3)$\n",
    "\n",
    "Vogliamo trovare l'equazione della circonferenza che passa per questi tre punti nella forma:\n",
    "\n",
    "$$x^2 + y^2 + ax + by + c = 0$$\n",
    "\n",
    "**Soluzione**\n",
    "\n",
    "1.  **Sostituiamo le coordinate dei punti nell'equazione:**\n",
    "\n",
    "    * Per il punto A (1, 2):\n",
    "        $$1^2 + 2^2 + a(1) + b(2) + c = 0 \\Rightarrow a + 2b + c = -5$$\n",
    "    * Per il punto B (5, 0):\n",
    "        $$5^2 + 0^2 + a(5) + b(0) + c = 0 \\Rightarrow 5a + c = -25$$\n",
    "    * Per il punto C (4, 3):\n",
    "        $$4^2 + 3^2 + a(4) + b(3) + c = 0 \\Rightarrow 4a + 3b + c = -25$$\n",
    "\n",
    "2.  **Risolviamo il sistema di equazioni:**\n",
    "\n",
    "    Abbiamo il seguente sistema di tre equazioni con tre incognite (a, b, c):\n",
    "\n",
    "    $$\\begin{cases} a + 2b + c = -5 \\\\ 5a + c = -25 \\\\ 4a + 3b + c = -25 \\end{cases}$$\n",
    "\n",
    "    Possiamo risolvere questo sistema utilizzando vari metodi (sostituzione, eliminazione, matrici). Utilizzando il metodo di sostituzione, possiamo ricavare c dalla seconda equazione, ottenendo $c=-25-5a$.\n",
    "\n",
    "    Sostituendo la c nelle altre due equazioni, abbiamo:\n",
    "\n",
    "    $$\\begin{cases} a + 2b -25-5a = -5 \\\\ 4a + 3b -25-5a = -25 \\end{cases}$$\n",
    "\n",
    "    Che semplificando diviene:\n",
    "\n",
    "    $$\\begin{cases} -4a + 2b = 20 \\\\ -a + 3b = 0 \\end{cases}$$\n",
    "\n",
    "    Dalla seconda equazione si ricava $a = 3b$ che sostituito nella prima da:\n",
    "\n",
    "    $-12b+2b=20$ quindi $b=-2$ e a=$-6$.\n",
    "\n",
    "    Sostituendo i valori di a e b nella equazione $c=-25-5a$ si ottiene $c=5$.\n",
    "\n",
    "3.  **Scriviamo l'equazione della circonferenza:**\n",
    "\n",
    "    Ora che abbiamo trovato i valori di a, b e c, possiamo scrivere l'equazione della circonferenza:\n",
    "\n",
    "    $$x^2 + y^2 - 6x - 2y + 5 = 0$$\n",
    "\n",
    "Quindi, l'equazione della circonferenza che passa per i punti A, B e C è:\n",
    "\n",
    "$$x^2 + y^2 - 6x - 2y + 5 = 0$$"
   ]
  },
  {
   "cell_type": "markdown",
   "id": "1dca6844-bccd-4f44-84f7-440cff33e0d8",
   "metadata": {},
   "source": [
    "### Nota conclusiva:\n",
    "\n",
    "Può darsi che negli esercizi si divertano a darvi dei dati diversi da raggio e centro oppure tre punti non allineati.\n",
    "Per esempio, vi potrebbero dare una ascissa e una ordinata di due intersezioni punti della circonferenza che passano per una sola retta assieme ad un altro punto.\n",
    "Per risolvere l'esercizio in modo meccanico potrebbe essere una buona idea ricondursi ai casi precedenti che abbiamo trattato centro raggio o tre punti non allineati passanti per la circonferenza. \n"
   ]
  },
  {
   "cell_type": "markdown",
   "id": "1ceaff30-d543-40b6-89b7-eb33e90971b1",
   "metadata": {},
   "source": [
    "### Ricava il sistema per coefficienti della circonferenza dati tre punti non allineati:"
   ]
  },
  {
   "cell_type": "code",
   "execution_count": 18,
   "id": "090d5ef2-16bd-43ab-8e32-ce59c5dfa2b4",
   "metadata": {},
   "outputs": [
    {
     "name": "stdout",
     "output_type": "stream",
     "text": [
      "-3*a - 3*b + c + 18\n",
      "-a - b + c + 2\n",
      "-3*b + c + 9\n"
     ]
    }
   ],
   "source": [
    "from sympy import symbols\n",
    "\n",
    "def evaluate_expression(x, y):\n",
    "    a, b, c = symbols('a b c')\n",
    "    return x**2 + y**2 + a*x + b*y + c\n",
    "\n",
    "# Example usage\n",
    "x, y = symbols('x y')  # Keep x and y symbolic as well\n",
    "\n",
    "list = [[-3,-3], [-1,-1], [0,-3]] # Inserire le coordinate dei punti qua\n",
    "\n",
    "for el in list:\n",
    "    x_val, y_val = el  # Unpack the values properly\n",
    "    result = evaluate_expression(x_val, y_val)\n",
    "    print(result)\n"
   ]
  },
  {
   "cell_type": "markdown",
   "id": "c11436b6-9138-45d0-84a3-9d2cf74f9573",
   "metadata": {},
   "source": [
    "### Risolve il sistema ricavato dai tre punti non allineati:"
   ]
  },
  {
   "cell_type": "code",
   "execution_count": 6,
   "id": "11e14cb9-efce-4fe2-84d6-3fd125e06934",
   "metadata": {},
   "outputs": [
    {
     "name": "stdout",
     "output_type": "stream",
     "text": [
      "Solutions: {a: -5, b: 1, c: -6}\n"
     ]
    }
   ],
   "source": [
    "from sympy import symbols, solve\n",
    "\n",
    "def evaluate_expression(x, y, a, b, c):\n",
    "    return x**2 + y**2 + a*x + b*y + c\n",
    "\n",
    "# Define symbolic variables\n",
    "a, b, c = symbols('a b c')\n",
    "\n",
    "# Given points\n",
    "points = [(3, 3), (-1, -1), (0, -3)]\n",
    "\n",
    "# Define the system of equations\n",
    "equations = [evaluate_expression(x, y, a, b, c) for x, y in points]\n",
    "\n",
    "# Solve the system for a, b, c\n",
    "solutions = solve(equations, (a, b, c))\n",
    "print(\"Solutions:\", solutions)\n"
   ]
  },
  {
   "cell_type": "markdown",
   "id": "6e1de282-d3ad-42bc-aec2-52a6311ab059",
   "metadata": {},
   "source": [
    "### Ricava l'equazione della circonferenza dati tre punti non allineati."
   ]
  },
  {
   "cell_type": "code",
   "execution_count": 16,
   "id": "08506661-00c7-4596-89bc-22fe37364293",
   "metadata": {},
   "outputs": [
    {
     "name": "stdout",
     "output_type": "stream",
     "text": [
      "Equazione della circonferenza: x^2 + y^2 + (-5) * x + (1) * y + (-6) = 0\n"
     ]
    }
   ],
   "source": [
    "from sympy import symbols, solve\n",
    "\n",
    "def evaluate_expression(x, y, a, b, c):\n",
    "    return x**2 + y**2 + a*x + b*y + c\n",
    "\n",
    "def Trova_Equazione_Circonferenza(p1, p2, p3):\n",
    "    a, b, c = symbols('a b c')\n",
    "    points = [p1, p2, p3]\n",
    "    \n",
    "    # Define the system of equations\n",
    "    equations = [evaluate_expression(x, y, a, b, c) for x, y in points]\n",
    "    \n",
    "    # Solve the system for a, b, c\n",
    "    solutions = solve(equations, (a, b, c))\n",
    "    \n",
    "    if not solutions:\n",
    "        print(\"Errore: il sistema non ha soluzioni.\")\n",
    "        return\n",
    "    \n",
    "    if isinstance(solutions, dict):\n",
    "        a_val, b_val, c_val = solutions.get(a, 0), solutions.get(b, 0), solutions.get(c, 0)\n",
    "    else:\n",
    "        a_val, b_val, c_val = solutions\n",
    "    \n",
    "    # Format the equation string\n",
    "    eq_str = f\"Equazione della circonferenza: x^2 + y^2 + ({a_val}) * x + ({b_val}) * y + ({c_val}) = 0\"\n",
    "    print(eq_str)\n",
    "\n",
    "# Example usage\n",
    "Trova_Equazione_Circonferenza((3, 3), (-1, -1), (0, -3))\n",
    "\n",
    "\n"
   ]
  },
  {
   "cell_type": "code",
   "execution_count": null,
   "id": "1c390e98-d3d8-4f50-b418-fb6901af011f",
   "metadata": {},
   "outputs": [],
   "source": []
  }
 ],
 "metadata": {
  "kernelspec": {
   "display_name": "Python 3 (ipykernel)",
   "language": "python",
   "name": "python3"
  },
  "language_info": {
   "codemirror_mode": {
    "name": "ipython",
    "version": 3
   },
   "file_extension": ".py",
   "mimetype": "text/x-python",
   "name": "python",
   "nbconvert_exporter": "python",
   "pygments_lexer": "ipython3",
   "version": "3.12.7"
  }
 },
 "nbformat": 4,
 "nbformat_minor": 5
}
