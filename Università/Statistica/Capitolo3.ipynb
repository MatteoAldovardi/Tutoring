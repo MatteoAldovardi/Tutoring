{
 "cells": [
  {
   "cell_type": "markdown",
   "id": "7a8246a2-ee7c-4371-a17c-5d55b0d8c104",
   "metadata": {},
   "source": [
    "## Misure di dispersione\n",
    "\n",
    "\n",
    "Le misure di dispersione quantificano la variabilità dei dati attorno a un valore centrale.\n",
    "\n",
    "**Intervallo di variazione (o range), indicato con R:**\n",
    "\n",
    "$$R = \\text{valore massimo} - \\text{valore minimo}$$\n",
    "\n",
    "L'intervallo di variazione è molto sensibile ai valori estremi (outlier), quindi non è una misura robusta.\n",
    "\n",
    "**Varianza:**\n",
    "\n",
    "La varianza misura la distanza media di ciascuna osservazione dalla media aritmetica.\n",
    "\n",
    "* **Varianza della popolazione ($\\sigma^2$):** Si calcola usando la media della popolazione (μ).\n",
    "* **Varianza campionaria ($s^2$):** Si calcola usando la media del campione $\\bar{x}$\n",
    "\n",
    "Inizialmente si potrebbe essere tentati di mediare gli scarti, ma purtroppo si ha\n",
    "\n",
    "* $ \\frac{1}{N} \\sum_{i=1}^{N} (x_i - \\mu) = 0$ (popolazione)\n",
    "* $\\frac{1}{n} \\sum_{i=1}^{n} (x_i - \\bar{x}) = 0$ (campione)\n",
    "\n",
    "\n",
    "Intuitivamente, gli $x_i$ minori della media (corrispondenti a scarti minori di zero) compensano le osservazioni $x_i$ che sono al di sopra della media (corrispondenti a scarti positivi); le osservazioni esattamente uguali alla media non contribuiscono. \n",
    "\n",
    "Per superare questo problema dei segni, alcune delle soluzioni più ovvie sono:\n",
    "\n",
    "* Considerare la media del valore assoluto delle deviazioni:\n",
    "    * $\\frac{1}{N} \\sum_{i=1}^{N} |x_i - \\mu|$ (popolazione)\n",
    "    * $\\frac{1}{n} \\sum_{i=1}^{n} |x_i - \\bar{x}|$ (campione)\n",
    "* Considerare la media del quadrato delle deviazioni:\n",
    "    * $\\frac{1}{N} \\sum_{i=1}^{N} (x_i - \\mu)^2$ (popolazione)\n",
    "    * $\\frac{1}{n} \\sum_{i=1}^{n} (x_i - \\bar{x})^2$ (campione)\n",
    "\n",
    "La scelta del quadrato è preferibile per le sue proprietà matematiche e per la sua utilità in molte tecniche statistiche, basti pensare al metodo dei minimi quadrati inventato da Gauss agli inizi dell$'800.$\n",
    "La varianza della popolazione è indicata $\\sigma^2$ e la varianza campionaria è indicata con $s^2.$\n",
    "\n",
    "\n",
    "**Piccolo inconventiente**\n",
    "La varianza è espressa nell'unità di misura dei dati elevata al quadrato. Per ottenere una misura nella stessa unità di misura dei dati, si calcola la radice quadrata della varianza (deviazione standard).\n",
    "\n",
    "Per indicare la deviazione standard si usa $\\sigma$ nel caso della popolazione e si usa $s$ nel caso del campione.\n",
    "\n",
    "**Formula abbreviata per la varianza della popolazione ($\\sigma^2$):**\n",
    "\n",
    "$\\sigma^2 = \\frac{\\sum x_i^2}{N} - \\mu^2$\n",
    "\n",
    "\n",
    "\n",
    "**Varianza campionaria ($s^2$):**\n",
    "\n",
    "La varianza campionaria calcolata con la formula $\\frac{\\sum (x_i - \\bar{x})^2}{n}$ sottostima la varianza della popolazione.\n",
    "\n",
    "Per ottenere una stima corretta, si utilizza il fattore di correzione $\\frac{n}{n - 1}$:\n",
    "\n",
    "$s^2 = \\frac{n}{n - 1} \\cdot \\frac{\\sum (x_i - \\bar{x})^2}{n} = \\frac{\\sum (x_i - \\bar{x})^2}{n - 1}$\n",
    "\n",
    "Considerato quanti conti proibitivi ci siano in statistica, moltiplicare per una costante maggiore di $1$ per ottenere una **non distorta** (i.e una stima che in media tende al risultato giusto) non sembra poi così male.\n",
    "\n",
    "Per ricordarsi che il denominatore della campionaria è $n-1$ trovo utile osservare che per $n=1$ la varianza campionaria non è definita infatti\n",
    "$$\n",
    "s^2 = \\frac{1}{n-1}\\sum_{i=1}^{n} (x_i - \\bar{x})^2= \\frac{1}{1-1}\\sum_{i=1}^{1} (x_i - \\bar{x})^2,\n",
    "$$\n",
    "che non ha senso perché si sta dividendo per $0.$\n",
    "\n",
    "Il fatto che $s^2$ per $n = 1$ non è definita è coerente con l'idea che un singolo dato non può mostrare variabilità. Detto altrimenti, da campione singolo non si può ottenere una stima della variabilità come la varianza campionaria $s^2!$\n",
    "\n"
   ]
  },
  {
   "cell_type": "markdown",
   "id": "3f0bbab4-9a15-40ff-a7e8-45c826a4f099",
   "metadata": {},
   "source": [
    "### Trucchi per calcolare la varianza più velocemente:\n",
    "\n",
    "Usare la formula abbreviata.\n",
    "\n",
    "$$\\sigma^2 = \\frac{\\sum x_i^2}{N} - \\mu^2$$\n",
    "\n",
    "L'unico inconventiente è che quando si trattano numeri intorno al milione cominciano a esserci errori significativi attorno alla seconda cifra decimale! \n",
    "Provare per credere, si può giocare con il programma sotto inserendo i seguenti input e osservare che c'è una discrepanza tra la formula abbreviata e quella non abbreviata:\n",
    "\n",
    "\n",
    "9000000, 4000000, 10000000, 5000000, 15000000, 20000000, 9000000, 4000000, 10000000, 5000000, 15000000, 20000000\n",
    "\n"
   ]
  },
  {
   "cell_type": "markdown",
   "id": "ec2c4017-c6f1-451a-811a-72b933aa623e",
   "metadata": {},
   "source": [
    "## Deviazioni standard e distribuzioni a campana\n",
    "\n",
    "Se i dati presentano una forma campanulare media e deviazione standard possono essere utilizzate per stimare la percentuale di dati che sono comprese in un determinato intervallo\n",
    "\n",
    "**Esempi**\n",
    "- Approsimativamente il $68%$ sarà compreso nell'intervallo $\\mu - \\sigma$ e $\\mu + \\sigma.$\n",
    "- Approssimativamente il $95%$ sarà compreso nell'intervallo $\\mu - 2 \\sigma$ e $\\mu + 2 \\sigma.$\n",
    "- Approssimativamente il $99.7%$ delle osservazioni sarà compreso nell'intervallo $\\mu - 3 \\sigma $ e $\\mu + 3 \\sigma.$\n",
    "\n"
   ]
  },
  {
   "cell_type": "markdown",
   "id": "ae681eb2-b44d-4abc-b171-298e02fa3334",
   "metadata": {},
   "source": [
    "**Disuguaglianza di Chebyshev:**\n",
    "\n",
    "Si chiama disuguaglianza per questo motivo \n",
    "$$\n",
    "P(\\{ \\left\\vert X - \\mu  \\right\\vert > k\\sigma  \\}) \\leq  \\dfrac{1}{k^2  } \\cdot \\int \\vert X - \\mu \\vert^2  dP = \\dfrac{\\sigma^2}{k^2}   \n",
    "$$\n",
    "\n",
    "Ma si può enunciare alla buona dicendo che almeno $(1 - \\frac{1}{k^2})100%$ delle osservazioni cade tra la media e $k$ deviazioni standard. "
   ]
  },
  {
   "cell_type": "markdown",
   "id": "1f8f3774-2865-4813-8705-40ef93011ab0",
   "metadata": {},
   "source": [
    "# Misure di tendenza centrale e di dispersione per dati raggrupatti in classi\n",
    "Supponiamo di poter dividere una polazione in $L$ classi e che per qualche motivo, magari per approssimazione, si possa attribuire ai membri di una classe si possa attribuire un valore $x_i.$ Allora la media della popolazione e la media campionaria si calcolano con la seguente formula \n",
    "\n",
    "$$\n",
    "\\begin{gather*}\n",
    "\\mu = \\fdrac{\\sum_{i=1}^{L} f_i \\cdot x_i }{\\sum_{i=1}^{L} f_i} \n",
    "\\bar{x} = \\fdrac{\\sum_{i=1}^{L} f_i \\cdot x_i }{\\sum_{i=1}^{L} f_i} \n",
    "\\end{gather*}\n",
    "$$\n"
   ]
  },
  {
   "cell_type": "markdown",
   "id": "6990f166-6497-4834-9101-4e0c3b695abe",
   "metadata": {},
   "source": [
    "### **Formula per la Mediana per una distribuzione in classi**\n",
    "$$\n",
    "M = L + \\left( \\frac{\\frac{N}{2} - CF}{f_m} \\right) \\cdot h\n",
    "$$\n",
    "\n",
    "dove:\n",
    "- $ L $  = limite inferiore della classe dove ricade la mediana\n",
    "- $ N $ = Frequenzae totale\n",
    "- $ CF $ = Frequenza cumulata prima della classe mediana \n",
    "- $ f_m $ = Frequenza della classe mediana\n",
    "- $ h $ = Ampiezza della classe mediana\n",
    "\n",
    "---\n",
    "\n",
    "### **Example Calculation**\n",
    "Data la tabella:\n",
    "\n",
    "| Class Interval  | $ n_i $ | $ N_i $ |\n",
    "|---------------|--------|--------|\n",
    "| 0-499        | 5      | 5      |\n",
    "| 500-999      | 17     | 22     |\n",
    "| 1000-1499    | 36     | 58     |\n",
    "| 1500-1999    | 121    | 179    |\n",
    "| **2000-2499** | **119** | **298** (Median Class) |\n",
    "| 2500-2999    | 81     | 379    |\n",
    "| 3000-3499    | 47     | 426    |\n",
    "| 3500-3999    | 45     | 471    |\n",
    "| 4000-4499    | 22     | 493    |\n",
    "| 4500-4999    | 7      | 500    |\n",
    "\n",
    "- $ L = 2000 $(lower boundary of the median class)\n",
    "- $ N = 500 $\n",
    "- $ F = 179 $ (cumulative frequency before the median class)\n",
    "- $ f_m = 119 $ (frequency of the median class)\n",
    "- $ h = 2499 - 2000 = 499 $ (class width)\n",
    "\n",
    "Now, apply the formula:\n",
    "\n",
    "$$\n",
    "M = 2000 + \\left( \\frac{250 - 179}{119} \\right) \\times 499\n",
    "$$\n",
    "\n",
    "$$\n",
    "M = 2000 + \\left( \\frac{71}{119} \\right) \\times 499\n",
    "$$\n",
    "\n",
    "$$\n",
    "M = 2000 + 297.7\n",
    "$$\n",
    "\n",
    "$$\n",
    "M \\approx 2297\n",
    "$$\n",
    "\n",
    "### **Final Answer:**  \n",
    "The median is **approximately 2297**."
   ]
  },
  {
   "cell_type": "markdown",
   "id": "9df8efed-e59e-45c7-bd7c-7f4258e14e91",
   "metadata": {},
   "source": [
    "## Calcolare la media pesata :\n",
    "\n",
    "Ci sono situazioni in cui certe osservazioni sono più importanti di altre e gli si assegna più importanza o peso rispetto alle altre.\n",
    "\n",
    "In questa situazione si calcola la media pesata delle osservazioni $x_i$ ciascuna con un suo peso $w_i,$ indicata con $x_w$ e definita come \n",
    "\n",
    "$$\n",
    "x_w = \\frac{1}{\\sum_{i=1}^{N} w_{i}} \\cdot \\sum_{i = 1}^{N} w_{i} \\cdot x_i\n",
    "$$\n"
   ]
  },
  {
   "cell_type": "markdown",
   "id": "d7bb4f8c-d77c-4a20-ae90-06cfebedf747",
   "metadata": {},
   "source": [
    "### Calcolo della varianza con formula abbreviata o come la media degli scarti quadratici."
   ]
  },
  {
   "cell_type": "code",
   "execution_count": 3,
   "id": "4ac07291-5d82-43a1-9e5d-748b37453293",
   "metadata": {},
   "outputs": [
    {
     "data": {
      "application/vnd.jupyter.widget-view+json": {
       "model_id": "b30400fe5a3543dfb4325d14c9d854e0",
       "version_major": 2,
       "version_minor": 0
      },
      "text/plain": [
       "Text(value='1,2,3,4,5', description='Observations:', layout=Layout(width='50%'))"
      ]
     },
     "metadata": {},
     "output_type": "display_data"
    },
    {
     "data": {
      "application/vnd.jupyter.widget-view+json": {
       "model_id": "f35c08a27b364a22b975882f44d51856",
       "version_major": 2,
       "version_minor": 0
      },
      "text/plain": [
       "Button(button_style='primary', description='Update Variance', style=ButtonStyle())"
      ]
     },
     "metadata": {},
     "output_type": "display_data"
    },
    {
     "data": {
      "application/vnd.jupyter.widget-view+json": {
       "model_id": "77a4407fd8a44608bd6587435d5c1702",
       "version_major": 2,
       "version_minor": 0
      },
      "text/plain": [
       "Output()"
      ]
     },
     "metadata": {},
     "output_type": "display_data"
    }
   ],
   "source": [
    "import numpy as np\n",
    "import matplotlib.pyplot as plt\n",
    "import ipywidgets as widgets\n",
    "from IPython.display import display, clear_output\n",
    "\n",
    "def variance_naive(x):\n",
    "    n = len(x)\n",
    "    return np.sum(np.array(x) ** 2) / n - (np.mean(x) ** 2)\n",
    "\n",
    "def variance_direct(x):\n",
    "    n = len(x)\n",
    "    return np.sum((np.array(x) - np.mean(x)) ** 2) / n\n",
    "\n",
    "# Output widget to hold the results\n",
    "output = widgets.Output()\n",
    "\n",
    "def compare_variance(obs):\n",
    "    with output:\n",
    "        clear_output(wait=True)  # Clears previous output to prevent stacking\n",
    "        x = np.array(obs)\n",
    "        naive_var = variance_naive(x)\n",
    "        direct_var = variance_direct(x)\n",
    "        abs_diff = abs(naive_var - direct_var)\n",
    "        \n",
    "        print(\"Varianza abbreviata:\", naive_var)\n",
    "        print(\"Formula diretta:\", direct_var)\n",
    "        print(\"Absolute difference:\", abs_diff)\n",
    "        \n",
    "        # Plot\n",
    "        labels = ['Naive', 'Direct']\n",
    "        values = [naive_var, direct_var]\n",
    "        plt.bar(labels, values, color=['red', 'blue'])\n",
    "        plt.ylabel(\"Variance\")\n",
    "        plt.title(\"Comparison of Variance Computation\")\n",
    "        plt.show()\n",
    "\n",
    "# Create input widget and button\n",
    "obs_input = widgets.Text(\n",
    "    value='1,2,3,4,5',\n",
    "    description='Observations:',\n",
    "    layout=widgets.Layout(width='50%')\n",
    ")\n",
    "\n",
    "update_button = widgets.Button(\n",
    "    description=\"Update Variance\",\n",
    "    button_style=\"primary\"\n",
    ")\n",
    "\n",
    "# Define update function\n",
    "def update_variance(_):\n",
    "    try:\n",
    "        obs = list(map(float, obs_input.value.split(',')))\n",
    "        compare_variance(obs)\n",
    "    except ValueError:\n",
    "        with output:\n",
    "            clear_output(wait=True)\n",
    "            print(\"Invalid input. Please enter numbers separated by commas.\")\n",
    "\n",
    "# Link button click to update function\n",
    "update_button.on_click(update_variance)\n",
    "\n",
    "# Display widgets and output\n",
    "display(obs_input, update_button, output)\n",
    "\n",
    "# Initial plot\n",
    "update_variance(None)\n",
    "\n"
   ]
  }
 ],
 "metadata": {
  "kernelspec": {
   "display_name": "Python 3 (ipykernel)",
   "language": "python",
   "name": "python3"
  },
  "language_info": {
   "codemirror_mode": {
    "name": "ipython",
    "version": 3
   },
   "file_extension": ".py",
   "mimetype": "text/x-python",
   "name": "python",
   "nbconvert_exporter": "python",
   "pygments_lexer": "ipython3",
   "version": "3.12.7"
  }
 },
 "nbformat": 4,
 "nbformat_minor": 5
}
