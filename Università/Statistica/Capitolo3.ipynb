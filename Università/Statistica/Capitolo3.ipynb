{
 "cells": [
  {
   "cell_type": "markdown",
   "id": "7a8246a2-ee7c-4371-a17c-5d55b0d8c104",
   "metadata": {},
   "source": [
    "## Misure di dispersione\n",
    "\n",
    "\n",
    "Le misure di dispersione quantificano la variabilità dei dati attorno a un valore centrale.\n",
    "\n",
    "**Intervallo di variazione (o range), indicato con R:**\n",
    "\n",
    "$$R = \\text{valore massimo} - \\text{valore minimo}$$\n",
    "\n",
    "L'intervallo di variazione è molto sensibile ai valori estremi (outlier), quindi non è una misura robusta.\n",
    "\n",
    "**Varianza:**\n",
    "\n",
    "La varianza misura la distanza media di ciascuna osservazione dalla media aritmetica.\n",
    "\n",
    "* **Varianza della popolazione ($\\sigma^2$):** Si calcola usando la media della popolazione (μ).\n",
    "* **Varianza campionaria ($s^2$):** Si calcola usando la media del campione $\\bar{x}$\n",
    "\n",
    "Inizialmente si potrebbe essere tentati di mediare gli scarti, ma purtroppo si ha\n",
    "\n",
    "* $ \\frac{1}{N} \\sum_{i=1}^{N} (x_i - \\mu) = 0$ (popolazione)\n",
    "* $\\frac{1}{n} \\sum_{i=1}^{n} (x_i - \\bar{x}) = 0$ (campione)\n",
    "\n",
    "\n",
    "Intuitivamente, gli $x_i$ minori della media (corrispondenti a scarti minori di zero) compensano le osservazioni $x_i$ che sono al di sopra della media (corrispondenti a scarti positivi); le osservazioni esattamente uguali alla media non contribuiscono. \n",
    "\n",
    "Per superare questo problema dei segni, alcune delle soluzioni più ovvie sono:\n",
    "\n",
    "* Considerare la media del valore assoluto delle deviazioni:\n",
    "    * $\\frac{1}{N} \\sum_{i=1}^{N} |x_i - \\mu|$ (popolazione)\n",
    "    * $\\frac{1}{n} \\sum_{i=1}^{n} |x_i - \\bar{x}|$ (campione)\n",
    "* Considerare la media del quadrato delle deviazioni:\n",
    "    * $\\frac{1}{N} \\sum_{i=1}^{N} (x_i - \\mu)^2$ (popolazione)\n",
    "    * $\\frac{1}{n} \\sum_{i=1}^{n} (x_i - \\bar{x})^2$ (campione)\n",
    "\n",
    "La scelta del quadrato è preferibile per le sue proprietà matematiche e per la sua utilità in molte tecniche statistiche, basti pensare al metodo dei minimi quadrati inventato da Gauss agli inizi dell$'800.$\n",
    "La varianza della popolazione è indicata $\\sigma^2$ e la varianza campionaria è indicata con $s^2.$\n",
    "\n",
    "\n",
    "**Piccolo inconventiente**\n",
    "La varianza è espressa nell'unità di misura dei dati elevata al quadrato. Per ottenere una misura nella stessa unità di misura dei dati, si calcola la radice quadrata della varianza (deviazione standard).\n",
    "\n",
    "Per indicare la deviazione standard si usa $\\sigma$ nel caso della popolazione e si usa $s$ nel caso del campione.\n",
    "\n",
    "**Formula abbreviata per la varianza della popolazione ($\\sigma^2$):**\n",
    "\n",
    "$\\sigma^2 = \\frac{\\sum x_i^2}{N} - \\mu^2$\n",
    "\n",
    "\n",
    "\n",
    "**Varianza campionaria ($s^2$):**\n",
    "\n",
    "La varianza campionaria calcolata con la formula $\\frac{\\sum (x_i - \\bar{x})^2}{n}$ sottostima la varianza della popolazione.\n",
    "\n",
    "Per ottenere una stima corretta, si utilizza il fattore di correzione $\\frac{n}{n - 1}$:\n",
    "\n",
    "$s^2 = \\frac{n}{n - 1} \\cdot \\frac{\\sum (x_i - \\bar{x})^2}{n} = \\frac{\\sum (x_i - \\bar{x})^2}{n - 1}$\n",
    "\n",
    "Considerato quanti conti proibitivi ci siano in statistica, moltiplicare per una costante maggiore di $1$ per ottenere una **non distorta** (i.e una stima che in media tende al risultato giusto) non sembra poi così male.\n",
    "\n",
    "Per ricordarsi che il denominatore della campionaria è $n-1$ trovo utile osservare che per $n=1$ la varianza campionaria non è definita infatti\n",
    "$$\n",
    "s^2 = \\frac{1}{n-1}\\sum_{i=1}^{n} (x_i - \\bar{x})^2= \\frac{1}{1-1}\\sum_{i=1}^{1} (x_i - \\bar{x})^2,\n",
    "$$\n",
    "che non ha senso perché si sta dividendo per $0.$\n",
    "\n",
    "Il fatto che $s^2$ per $n = 1$ non è definita è coerente con l'idea che un singolo dato non può mostrare variabilità. Detto altrimenti, da campione singolo non si può ottenere una stima della variabilità come la varianza campionaria $s^2!$\n",
    "\n"
   ]
  },
  {
   "cell_type": "markdown",
   "id": "3f0bbab4-9a15-40ff-a7e8-45c826a4f099",
   "metadata": {},
   "source": [
    "### Trucchi per calcolare la varianza più velocemente:\n",
    "\n",
    "Usare la formula abbreviata.\n",
    "\n",
    "$$\\sigma^2 = \\frac{\\sum x_i^2}{N} - \\mu^2$$\n",
    "\n",
    "L'unico inconventiente è che quando si trattano numeri intorno al milione cominciano a esserci errori significativi attorno alla seconda cifra decimale! \n",
    "Provare per credere, si può giocare con il programma sotto inserendo i seguenti input e osservare che c'è una discrepanza tra la formula abbreviata e quella non abbreviata:\n",
    "\n",
    "\n",
    "9000000, 4000000, 10000000, 5000000, 15000000, 20000000, 9000000, 4000000, 10000000, 5000000, 15000000, 20000000\n",
    "\n"
   ]
  },
  {
   "cell_type": "markdown",
   "id": "ec2c4017-c6f1-451a-811a-72b933aa623e",
   "metadata": {},
   "source": [
    "## Deviazioni standard e distribuzioni a campana\n",
    "\n",
    "Se i dati presentano una forma campanulare media e deviazione standard possono essere utilizzate per stimare la percentuale di dati che sono comprese in un determinato intervallo\n",
    "\n",
    "**Esempi**\n",
    "- Approsimativamente il $68%$ sarà compreso nell'intervallo $\\mu - \\sigma$ e $\\mu + \\sigma.$\n",
    "- Approssimativamente il $95%$ sarà compreso nell'intervallo $\\mu - 2 \\sigma$ e $\\mu + 2 \\sigma.$\n",
    "- Approssimativamente il $99.7%$ delle osservazioni sarà compreso nell'intervallo $\\mu - 3 \\sigma $ e $\\mu + 3 \\sigma.$\n",
    "\n"
   ]
  },
  {
   "cell_type": "markdown",
   "id": "ae681eb2-b44d-4abc-b171-298e02fa3334",
   "metadata": {},
   "source": [
    "**Disuguaglianza di Chebyshev:**\n",
    "\n",
    "Si chiama disuguaglianza per questo motivo \n",
    "$$\n",
    "P(\\{ \\left\\vert X - \\mu  \\right\\vert > k\\sigma  \\}) \\leq  \\dfrac{1}{k^2  } \\cdot \\int \\vert X - \\mu \\vert^2  dP = \\dfrac{\\sigma^2}{k^2}   \n",
    "$$\n",
    "\n",
    "Ma si può enunciare alla buona dicendo che almeno $(1 - \\frac{1}{k^2})100%$ delle osservazioni cade tra la media e $k$ deviazioni standard. "
   ]
  },
  {
   "cell_type": "markdown",
   "id": "1f8f3774-2865-4813-8705-40ef93011ab0",
   "metadata": {},
   "source": [
    "# Misure di tendenza centrale e di dispersione per dati raggrupatti in classi\n",
    "Supponiamo di poter dividere una polazione in $L$ classi e che per qualche motivo, magari per approssimazione, si possa attribuire ai membri di una classe si possa attribuire un valore $x_i.$ Allora la media della popolazione e la media campionaria si calcolano con la seguente formula \n",
    "\n",
    "$$\n",
    "\\begin{gather*}\n",
    "\\mu = \\fdrac{\\sum_{i=1}^{L} f_i \\cdot x_i }{\\sum_{i=1}^{L} f_i} \n",
    "\\bar{x} = \\fdrac{\\sum_{i=1}^{L} f_i \\cdot x_i }{\\sum_{i=1}^{L} f_i} \n",
    "\\end{gather*}\n",
    "$$\n"
   ]
  },
  {
   "cell_type": "markdown",
   "id": "6990f166-6497-4834-9101-4e0c3b695abe",
   "metadata": {},
   "source": [
    "### **Formula per la Mediana per una distribuzione in classi**\n",
    "$$\n",
    "M = L + \\left( \\frac{\\frac{N}{2} - CF}{f_m} \\right) \\cdot h\n",
    "$$\n",
    "\n",
    "dove:\n",
    "- $ L $  = limite inferiore della classe dove ricade la mediana\n",
    "- $ N $ = Frequenzae totale\n",
    "- $ CF $ = Frequenza cumulata prima della classe mediana \n",
    "- $ f_m $ = Frequenza della classe mediana\n",
    "- $ h $ = Ampiezza della classe mediana\n",
    "\n",
    "---\n",
    "\n",
    "### **Example Calculation**\n",
    "Data la tabella:\n",
    "\n",
    "| Class Interval  | $ n_i $ | $ N_i $ |\n",
    "|---------------|--------|--------|\n",
    "| 0-499        | 5      | 5      |\n",
    "| 500-999      | 17     | 22     |\n",
    "| 1000-1499    | 36     | 58     |\n",
    "| 1500-1999    | 121    | 179    |\n",
    "| **2000-2499** | **119** | **298** (Median Class) |\n",
    "| 2500-2999    | 81     | 379    |\n",
    "| 3000-3499    | 47     | 426    |\n",
    "| 3500-3999    | 45     | 471    |\n",
    "| 4000-4499    | 22     | 493    |\n",
    "| 4500-4999    | 7      | 500    |\n",
    "\n",
    "- $ L = 2000 $(lower boundary of the median class)\n",
    "- $ N = 500 $\n",
    "- $ F = 179 $ (cumulative frequency before the median class)\n",
    "- $ f_m = 119 $ (frequency of the median class)\n",
    "- $ h = 2499 - 2000 = 499 $ (class width)\n",
    "\n",
    "Now, apply the formula:\n",
    "\n",
    "$$\n",
    "M = 2000 + \\left( \\frac{250 - 179}{119} \\right) \\times 499\n",
    "$$\n",
    "\n",
    "$$\n",
    "M = 2000 + \\left( \\frac{71}{119} \\right) \\times 499\n",
    "$$\n",
    "\n",
    "$$\n",
    "M = 2000 + 297.7\n",
    "$$\n",
    "\n",
    "$$\n",
    "M \\approx 2297\n",
    "$$\n",
    "\n",
    "### **Final Answer:**  \n",
    "The median is **approximately 2297**."
   ]
  },
  {
   "cell_type": "markdown",
   "id": "9df8efed-e59e-45c7-bd7c-7f4258e14e91",
   "metadata": {},
   "source": [
    "## Calcolare la media pesata :\n",
    "\n",
    "Ci sono situazioni in cui certe osservazioni sono più importanti di altre e gli si assegna più importanza o peso rispetto alle altre.\n",
    "\n",
    "In questa situazione si calcola la media pesata delle osservazioni $x_i$ ciascuna con un suo peso $w_i,$ indicata con $x_w$ e definita come \n",
    "\n",
    "$$\n",
    "x_w = \\frac{1}{\\sum_{i=1}^{N} w_{i}} \\cdot \\sum_{i = 1}^{N} w_{i} \\cdot x_i\n",
    "$$\n"
   ]
  },
  {
   "cell_type": "markdown",
   "id": "e9ee9b3f-79cf-4d82-aff5-de23eafa0428",
   "metadata": {},
   "source": [
    "## Varianza nel caso di una una distribuzioni in classi\n",
    "\n",
    "**Varianza della popolazione**\n",
    "$$\n",
    "\\sigma^2 = \\dfrac{\\sum (x_i - \\mu)^2 f_i }{\\sum f_i}\n",
    "$$\n",
    "con formula abbreviata \n",
    "\n",
    "$$\n",
    "\\dfrac{\\sum x_i^2 f_i - \\left( \\frac{\\sum f_i x_i}{\\sum f_i} \\right)^2}{\\sum f_i}\n",
    "$$\n",
    "\n",
    "\n",
    "**Varianza campionaria**\n",
    "$$\n",
    "s^2 = \\dfrac{\\sum (x_i - \\mu)^2 f_i }{\\sum f_i}\n",
    "$$\n",
    "\n",
    "\n",
    "\n",
    "\n",
    "\n"
   ]
  },
  {
   "cell_type": "markdown",
   "id": "762b4702-f993-463f-9ab8-849c370bbc71",
   "metadata": {},
   "source": [
    "# Misure di posizione e outlier\n",
    "\n",
    "\n",
    "### Definizione $z-\\text{score}$\n",
    "\n",
    "**$z-\\text{score}$ per la popolazione** \n",
    "$$\n",
    "z = \\frac{x - \\mu}{\\sigma}\n",
    "$$\n",
    "\n",
    "**$z-\\text{score}$ di un campione** \n",
    "$$\n",
    "z = \\frac{x - \\bar{x}}{s}\n",
    "$$\n",
    "\n",
    "\n",
    "## Percentile:\n",
    "Il $k-$esimo percentile \n",
    "\n",
    "Il $50$ esimo perchentile corrisponde alla mediana\n",
    "\n",
    "\n",
    "## Quartili \n",
    "I tre quartili $Q_1, \\ Q_2, Q_3$ sono definite come \n",
    "$$Q_1 = P_{25}, \\ Q_2 = P_{50}, \\ Q_3 = P_{75},$$\n",
    "che dividono la distribuzione in $4$ porzioni, tutte che contengono all'incirca il $25%$ dei dati.\n",
    "\n",
    "\n",
    "\n",
    "\n"
   ]
  },
  {
   "cell_type": "code",
   "execution_count": 19,
   "id": "00380c63-5bab-42b9-baee-f094c5f78c58",
   "metadata": {
    "jupyter": {
     "source_hidden": true
    }
   },
   "outputs": [
    {
     "data": {
      "image/png": "[encoded data removed]",
      "text/plain": [
       "<Figure size 800x500 with 1 Axes>"
      ]
     },
     "metadata": {},
     "output_type": "display_data"
    }
   ],
   "source": [
    "import pandas as pd\n",
    "import numpy as np\n",
    "import matplotlib.pyplot as plt\n",
    "import pandas as pd\n",
    "from urllib.request import Request, urlopen\n",
    "\n",
    "import pandas as pd\n",
    "from io import StringIO\n",
    "\n",
    "# CSV data as a string\n",
    "csv_data = \"\"\"\n",
    ",iq,gender,concept\n",
    "1,7.94,111,2,67\n",
    "2,8.292,107,2,43\n",
    "3,4.643,100,2,52\n",
    "4,7.47,107,2,66\n",
    "5,8.882,114,1,58\n",
    "6,7.585,115,2,51\n",
    "7,7.65,111,2,71\n",
    "8,2.412,97,2,51\n",
    "9,6,100,1,49\n",
    "10,8.833,112,2,51\n",
    "11,7.47,104,1,35\n",
    "12,5.528,89,1,54\n",
    "13,7.167,104,2,54\n",
    "14,7.571,102,1,64\n",
    "15,4.7,91,1,56\n",
    "16,8.167,114,1,69\n",
    "17,7.822,114,1,55\n",
    "18,7.598,103,1,65\n",
    "19,4,106,2,40\n",
    "20,6.231,105,1,66\n",
    "21,7.643,113,2,55\n",
    "22,1.76,109,2,20\n",
    "24,6.419,108,1,56\n",
    "26,9.648,113,2,68\n",
    "27,10.7,130,1,69\n",
    "28,10.58,128,2,70\n",
    "29,9.429,128,2,80\n",
    "30,8,118,2,53\n",
    "31,9.585,113,2,65\n",
    "32,9.571,120,1,67\n",
    "33,8.998,132,1,62\n",
    "34,8.333,111,1,39\n",
    "35,8.175,124,2,71\n",
    "36,8,127,2,59\n",
    "37,9.333,128,1,60\n",
    "38,9.5,136,2,64\n",
    "39,9.167,106,2,71\n",
    "40,10.14,118,1,72\n",
    "41,9.999,119,1,54\n",
    "43,10.76,123,2,64\n",
    "44,9.763,124,2,58\n",
    "45,9.41,126,2,70\n",
    "46,9.167,116,2,72\n",
    "47,9.348,127,2,70\n",
    "48,8.167,119,2,47\n",
    "50,3.647,97,2,52\n",
    "51,3.408,86,1,46\n",
    "52,3.936,102,2,66\n",
    "53,7.167,110,2,67\n",
    "54,7.647,120,2,63\n",
    "55,0.53,103,2,53\n",
    "56,6.173,115,2,67\n",
    "57,7.295,93,2,61\n",
    "58,7.295,72,1,54\n",
    "59,8.938,111,1,60\n",
    "60,7.882,103,1,60\n",
    "61,8.353,123,2,63\n",
    "62,5.062,79,2,30\n",
    "63,8.175,119,2,54\n",
    "64,8.235,110,2,66\n",
    "65,7.588,110,2,44\n",
    "68,7.647,107,2,49\n",
    "69,5.237,74,1,44\n",
    "71,7.825,105,2,67\n",
    "72,7.333,112,1,64\n",
    "74,9.167,105,2,73\n",
    "76,7.996,110,2,59\n",
    "77,8.714,107,1,37\n",
    "78,7.833,103,1,63\n",
    "79,4.885,77,2,36\n",
    "80,7.998,98,1,64\n",
    "83,3.82,90,2,42\n",
    "84,5.936,96,1,28\n",
    "85,9,112,1,60\n",
    "86,9.5,112,1,70\n",
    "87,6.057,114,2,51\n",
    "88,6.057,93,1,21\n",
    "89,6.938,106,2,56\n",
    "\"\"\"\n",
    "\n",
    "# Convert the CSV string to a DataFrame\n",
    "df = pd.read_csv(StringIO(csv_data))\n",
    "\n",
    "# Extract IQ column\n",
    "data = df[\"iq\"].dropna()  # Drop NaN values if any\n",
    "\n",
    "# Compute quartiles\n",
    "Q1 = np.percentile(data, 25)\n",
    "Q2 = np.percentile(data, 50)  # Median\n",
    "Q3 = np.percentile(data, 75)\n",
    "\n",
    "# Plot histogram\n",
    "plt.figure(figsize=(8, 5))\n",
    "plt.hist(data, bins=15, edgecolor=\"black\", alpha=0.7)\n",
    "\n",
    "# Highlight quartiles\n",
    "plt.axvline(Q1, color=\"red\", linestyle=\"dashed\", label=\"Q1 (25th percentile)\")\n",
    "plt.axvline(Q2, color=\"green\", linestyle=\"dashed\", label=\"Q2 (Median, 50th percentile)\")\n",
    "plt.axvline(Q3, color=\"blue\", linestyle=\"dashed\", label=\"Q3 (75th percentile)\")\n",
    "\n",
    "# Labels and title\n",
    "plt.xlabel(\"IQ Score\")\n",
    "plt.ylabel(\"Frequency\")\n",
    "plt.title(\"IQ Distribution with Quartiles Highlighted\")\n",
    "plt.legend()\n",
    "plt.grid(axis=\"y\", linestyle=\"--\", alpha=0.7)\n",
    "\n",
    "# Show plot\n",
    "plt.show()\n"
   ]
  },
  {
   "cell_type": "markdown",
   "id": "5f6efc16-2bcb-4b27-9de4-c52148ed719d",
   "metadata": {},
   "source": [
    "### Intevallo interquartile\n",
    "\n",
    "$$\n",
    "IQR = Q_3 - Q_1\n",
    "$$"
   ]
  },
  {
   "cell_type": "markdown",
   "id": "1f35423d-8be8-49cb-b3b1-34bc15b93b3b",
   "metadata": {},
   "source": [
    "### Outlier:\n",
    "Sono valori diversi da quelli che caratterizzano la distribuzione.  Gli **outlier** possono essere dovuti al caso oppure possono essere dovuti ad un errori di misurazione.\n",
    "\n",
    "### Regola del pollice per rivelare outlier\n",
    "Una osservazione $x$ è un outlier se è più piccolo di $LF = Q_1 - 1.5 * IQR$ oppure più grande di $LS = Q_3 + 1.5 * IQR.$\n"
   ]
  },
  {
   "cell_type": "markdown",
   "id": "c928f551-3dae-446c-b674-1621a9044168",
   "metadata": {},
   "source": [
    "## I cinque numeri della statistica e i boxplot\n",
    "\n",
    "Le misure di tendenze centrali e di dispersione servono per la *analisi espolaritiva dei dati.* Altri due strumenti sono la **sintesi dei 5 numeri** e i **boxplot.**\n",
    "\n",
    "### Sintesi dei 5 numeri :\n",
    "$$\n",
    "\\text{MINIMO}, \\quad Q_1, \\quad M ,\\quad Q_3, \\quad \\text{MASSIMO}  \n",
    "$$"
   ]
  },
  {
   "cell_type": "code",
   "execution_count": 20,
   "id": "c16b342b-5d5d-4749-b091-d3285672853e",
   "metadata": {},
   "outputs": [
    {
     "name": "stdout",
     "output_type": "stream",
     "text": [
      "Sintesi dei 5 numeri:\n",
      "MINIMO: 72\n",
      "Q1: 103.0\n",
      "M (Mediana): 110.0\n",
      "Q3: 117.5\n",
      "MASSIMO: 136\n"
     ]
    }
   ],
   "source": [
    "\n",
    "# Sort the values in ascending order\n",
    "sorted_iq_values = sorted(data)\n",
    "\n",
    "# Calculate the five-number summary\n",
    "min_value = min(sorted_iq_values)\n",
    "q1_value = np.percentile(sorted_iq_values, 25)\n",
    "median_value = np.median(sorted_iq_values)\n",
    "q3_value = np.percentile(sorted_iq_values, 75)\n",
    "max_value = max(sorted_iq_values)\n",
    "\n",
    "# Print the five-number summary\n",
    "print(\"Sintesi dei 5 numeri:\")\n",
    "print(f\"MINIMO: {min_value}\")\n",
    "print(f\"Q1: {q1_value}\")\n",
    "print(f\"M (Mediana): {median_value}\")\n",
    "print(f\"Q3: {q3_value}\")\n",
    "print(f\"MASSIMO: {max_value}\")\n"
   ]
  },
  {
   "cell_type": "markdown",
   "id": "c470d97c-20af-4c49-86d9-096755c7dbc1",
   "metadata": {},
   "source": [
    "### Box Plot\n",
    "\n",
    "La sintesi dei 5 numeri è spesso utilizzata per pubblicare i boxplot.\n",
    "\n",
    "**Rappresentare un boxplot**\n",
    "- Determina\n",
    "  $$\n",
    "  LF = Q_1 - 1.5 * IQR \\quad \n",
    "  UP = Q_3 + 1.5 * IQR\n",
    "  $$\n",
    "- Tracciare tre segmenti verticali passanti rispettivamente per $Q_1, M, Q_3,$ e usarli per disegnare un rettangolo.\n",
    "  \n",
    "- Disegare $LF$ e $UP$ e in corrispndenza tracciare due parentesi quadre.\n",
    "\n",
    "- Connettere la più piccola osservazione MINIMO con il lato del rettangolo corrispondente a $Q_1$, e connettere l'osservazione più grande con $Q_3$. Queste due linee orizzontali sono chiamate **baffi.**\n",
    "- Gli eventuali outlier si trovano fuori dalle parentesi quadre.  \n"
   ]
  },
  {
   "cell_type": "code",
   "execution_count": 21,
   "id": "3f979355-be3e-4ad3-8d00-a521ba905c65",
   "metadata": {},
   "outputs": [
    {
     "data": {
      "image/png": "[encoded data removed]",
      "text/plain": [
       "<Figure size 800x600 with 1 Axes>"
      ]
     },
     "metadata": {},
     "output_type": "display_data"
    }
   ],
   "source": [
    "import seaborn as sns\n",
    "# Plot the boxplot\n",
    "plt.figure(figsize=(8, 6))\n",
    "sns.boxplot(x=sorted_iq_values)\n",
    "plt.title(\"Boxplot per l'iq'\", fontsize=14)\n",
    "plt.xlabel('IQ', fontsize=12)\n",
    "\n",
    "# Display the plot\n",
    "plt.show()"
   ]
  },
  {
   "cell_type": "markdown",
   "id": "313feed5-d9cd-4a66-8c8c-cc79a60f7085",
   "metadata": {},
   "source": [
    "### Utilizzare i boxplot per descrivere la forma della distribuzione"
   ]
  },
  {
   "cell_type": "code",
   "execution_count": 22,
   "id": "c6086220-c68a-45fa-9692-41adbd77cbdd",
   "metadata": {},
   "outputs": [
    {
     "data": {
      "image/png": "[encoded data removed]",
      "text/plain": [
       "<Figure size 1000x1000 with 2 Axes>"
      ]
     },
     "metadata": {},
     "output_type": "display_data"
    }
   ],
   "source": [
    "# Create a figure with two subplots\n",
    "fig, (ax1, ax2) = plt.subplots(2, 1, figsize=(10, 10), sharex=True)\n",
    "\n",
    "# Create the left-skewed distribution (log-normal)\n",
    "#left_skewed_values = np.random.lognormal(mean=0, sigma=1, size=1000)\n",
    "\n",
    "# Create the right-skewed distribution (exponential)\n",
    "#right_skewed_values = np.random.exponential(scale=15, size=1000)\n",
    "\n",
    "# Calculate the five-number summary\n",
    "min_value = min(sorted_iq_values)\n",
    "q1_value = np.percentile(sorted_iq_values, 25)\n",
    "median_value = np.median(sorted_iq_values)\n",
    "q3_value = np.percentile(sorted_iq_values, 75)\n",
    "max_value = max(sorted_iq_values)\n",
    "\n",
    "\n",
    "# Plot the histogram\n",
    "ax1.hist(sorted_iq_values, bins=20, color='lightblue', edgecolor='black')\n",
    "ax1.set_title('Distribuzione dell\\'IQ (Istogramma)')\n",
    "ax1.set_xlabel('IQ')\n",
    "ax1.set_ylabel('Frequenza')\n",
    "\n",
    "# Plot the horizontal boxplot\n",
    "sns.boxplot(data=sorted_iq_values, ax=ax2, color='lightgreen', orient='h')\n",
    "ax2.set_title(\"Sintesi dei 5 numeri per la colonna 'iq' (Boxplot)\")\n",
    "ax2.set_xlabel('IQ')\n",
    "\n",
    "# Draw lines connecting the quartiles on the histogram\n",
    "ax1.axvline(min_value, color='red', linestyle='--', label='MINIMO')\n",
    "ax1.axvline(q1_value, color='orange', linestyle='--', label='Q1')\n",
    "ax1.axvline(median_value, color='green', linestyle='--', label='M (Mediana)')\n",
    "ax1.axvline(q3_value, color='blue', linestyle='--', label='Q3')\n",
    "ax1.axvline(max_value, color='purple', linestyle='--', label='MASSIMO')\n",
    "\n",
    "# Add legend to the histogram\n",
    "ax1.legend()\n",
    "\n",
    "# Display the plots\n",
    "plt.tight_layout()\n",
    "plt.show()"
   ]
  },
  {
   "cell_type": "markdown",
   "id": "d7bb4f8c-d77c-4a20-ae90-06cfebedf747",
   "metadata": {},
   "source": [
    "### Nota sul calcolo della varianza con formula abbreviata o come la media degli scarti quadratici."
   ]
  },
  {
   "cell_type": "code",
   "execution_count": 23,
   "id": "4ac07291-5d82-43a1-9e5d-748b37453293",
   "metadata": {
    "jupyter": {
     "source_hidden": true
    }
   },
   "outputs": [
    {
     "data": {
      "application/vnd.jupyter.widget-view+json": {
       "model_id": "b3e7b38b443a4b40ae89e6a1fc2ad95a",
       "version_major": 2,
       "version_minor": 0
      },
      "text/plain": [
       "Text(value='1,2,3,4,5', description='Observations:', layout=Layout(width='50%'))"
      ]
     },
     "metadata": {},
     "output_type": "display_data"
    },
    {
     "data": {
      "application/vnd.jupyter.widget-view+json": {
       "model_id": "84b9f2e6ed5f411b89dbcd2e8ca7af40",
       "version_major": 2,
       "version_minor": 0
      },
      "text/plain": [
       "Button(button_style='primary', description='Update Variance', style=ButtonStyle())"
      ]
     },
     "metadata": {},
     "output_type": "display_data"
    },
    {
     "data": {
      "application/vnd.jupyter.widget-view+json": {
       "model_id": "fd88ac7615fc4a7196eef37b6bed1be5",
       "version_major": 2,
       "version_minor": 0
      },
      "text/plain": [
       "Output()"
      ]
     },
     "metadata": {},
     "output_type": "display_data"
    }
   ],
   "source": [
    "import numpy as np\n",
    "import matplotlib.pyplot as plt\n",
    "import ipywidgets as widgets\n",
    "from IPython.display import display, clear_output\n",
    "\n",
    "def variance_naive(x):\n",
    "    n = len(x)\n",
    "    return np.sum(np.array(x) ** 2) / n - (np.mean(x) ** 2)\n",
    "\n",
    "def variance_direct(x):\n",
    "    n = len(x)\n",
    "    return np.sum((np.array(x) - np.mean(x)) ** 2) / n\n",
    "\n",
    "# Output widget to hold the results\n",
    "output = widgets.Output()\n",
    "\n",
    "def compare_variance(obs):\n",
    "    with output:\n",
    "        clear_output(wait=True)  # Clears previous output to prevent stacking\n",
    "        x = np.array(obs)\n",
    "        naive_var = variance_naive(x)\n",
    "        direct_var = variance_direct(x)\n",
    "        abs_diff = abs(naive_var - direct_var)\n",
    "        \n",
    "        print(\"Varianza abbreviata:\", naive_var)\n",
    "        print(\"Formula diretta:\", direct_var)\n",
    "        print(\"Absolute difference:\", abs_diff)\n",
    "        \n",
    "        # Plot\n",
    "        labels = ['Naive', 'Direct']\n",
    "        values = [naive_var, direct_var]\n",
    "        plt.bar(labels, values, color=['red', 'blue'])\n",
    "        plt.ylabel(\"Variance\")\n",
    "        plt.title(\"Comparison of Variance Computation\")\n",
    "        plt.show()\n",
    "\n",
    "# Create input widget and button\n",
    "obs_input = widgets.Text(\n",
    "    value='1,2,3,4,5',\n",
    "    description='Observations:',\n",
    "    layout=widgets.Layout(width='50%')\n",
    ")\n",
    "\n",
    "update_button = widgets.Button(\n",
    "    description=\"Update Variance\",\n",
    "    button_style=\"primary\"\n",
    ")\n",
    "\n",
    "# Define update function\n",
    "def update_variance(_):\n",
    "    try:\n",
    "        obs = list(map(float, obs_input.value.split(',')))\n",
    "        compare_variance(obs)\n",
    "    except ValueError:\n",
    "        with output:\n",
    "            clear_output(wait=True)\n",
    "            print(\"Invalid input. Please enter numbers separated by commas.\")\n",
    "\n",
    "# Link button click to update function\n",
    "update_button.on_click(update_variance)\n",
    "\n",
    "# Display widgets and output\n",
    "display(obs_input, update_button, output)\n",
    "\n",
    "# Initial plot\n",
    "update_variance(None)\n",
    "\n"
   ]
  }
 ],
 "metadata": {
  "kernelspec": {
   "display_name": "Python 3 (ipykernel)",
   "language": "python",
   "name": "python3"
  },
  "language_info": {
   "codemirror_mode": {
    "name": "ipython",
    "version": 3
   },
   "file_extension": ".py",
   "mimetype": "text/x-python",
   "name": "python",
   "nbconvert_exporter": "python",
   "pygments_lexer": "ipython3",
   "version": "3.12.7"
  }
 },
 "nbformat": 4,
 "nbformat_minor": 5
}
