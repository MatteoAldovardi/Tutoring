{
 "cells": [
  {
   "cell_type": "markdown",
   "id": "bf73f6c1-dee7-49af-b243-a05d66481314",
   "metadata": {},
   "source": [
    "# Calcolo media, varianza campionaria, deviazione standard"
   ]
  },
  {
   "cell_type": "code",
   "execution_count": null,
   "id": "6c25e664-832f-475e-8a49-1adc84f68800",
   "metadata": {},
   "outputs": [],
   "source": [
    "import numpy as np\n",
    "\n",
    "# Dati\n",
    "resistenze = np.array([3960, 4090, 3200, 3100, 2940, 3830, 4090, 4040, 3780])\n",
    "\n",
    "# Intervallo di variazione\n",
    "range_variation = np.max(resistenze) - np.min(resistenze)\n",
    "print(f\"Intervallo di variazione: {range_variation} psi\")\n",
    "\n",
    "# Media\n",
    "mean_resistance = np.mean(resistenze)\n",
    "print(f\"Media: {mean_resistance:.2f} psi\")\n",
    "\n",
    "# Varianza campionaria\n",
    "variance = np.var(resistenze, ddof=1)\n",
    "print(f\"Varianza campionaria: {variance:.2f} psi²\")\n",
    "\n",
    "# Deviazione standard campionaria\n",
    "std_dev = np.sqrt(variance)\n",
    "print(f\"Deviazione standard campionaria: {std_dev:.2f} psi\")\n"
   ]
  }
 ],
 "metadata": {
  "kernelspec": {
   "display_name": "Python 3 (ipykernel)",
   "language": "python",
   "name": "python3"
  },
  "language_info": {
   "codemirror_mode": {
    "name": "ipython",
    "version": 3
   },
   "file_extension": ".py",
   "mimetype": "text/x-python",
   "name": "python",
   "nbconvert_exporter": "python",
   "pygments_lexer": "ipython3",
   "version": "3.12.7"
  }
 },
 "nbformat": 4,
 "nbformat_minor": 5
}
