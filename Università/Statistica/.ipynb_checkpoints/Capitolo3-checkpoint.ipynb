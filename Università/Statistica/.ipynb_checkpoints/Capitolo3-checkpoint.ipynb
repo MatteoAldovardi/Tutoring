{
 "cells": [
  {
   "cell_type": "markdown",
   "id": "7a8246a2-ee7c-4371-a17c-5d55b0d8c104",
   "metadata": {},
   "source": [
    "**Misure di dispersione:**\n",
    "\n",
    "Le misure di dispersione quantificano la variabilità dei dati attorno a un valore centrale.\n",
    "\n",
    "**Intervallo di variazione (o range), indicato con R:**\n",
    "\n",
    "$$R = \\text{valore massimo} - \\text{valore minimo}$$\n",
    "\n",
    "L'intervallo di variazione è molto sensibile ai valori estremi (outlier), quindi non è una misura robusta.\n",
    "\n",
    "**Varianza:**\n",
    "\n",
    "La varianza misura la dispersione dei dati rispetto alla media aritmetica.\n",
    "\n",
    "* **Varianza della popolazione ($\\sigma^2$):** Si calcola usando la media della popolazione (μ).\n",
    "* **Varianza campionaria ($s^2$):** Si calcola usando la media del campione $\\bar{x}$\n",
    "\n",
    "La somma delle deviazioni dalla media è sempre zero:\n",
    "\n",
    "* $ \\sigma^2 = \\frac{1}{N} \\sum_{i=1}^{N} (x_i - \\mu) = 0$ (popolazione)\n",
    "* $\\frac{1}{n} \\sum_{i=1}^{n} (x_i - \\bar{x}) = 0$ (campione)\n",
    "\n",
    "Per superare questo problema, si considerano:\n",
    "\n",
    "* Il valore assoluto delle deviazioni:\n",
    "    * $\\frac{1}{N} \\sum_{i=1}^{N} |x_i - \\mu|$ (popolazione)\n",
    "    * $\\frac{1}{n} \\sum_{i=1}^{n} |x_i - \\bar{x}|$ (campione)\n",
    "* Il quadrato delle deviazioni:\n",
    "    * $\\frac{1}{N} \\sum_{i=1}^{N} (x_i - \\mu)^2$ (popolazione)\n",
    "    * $\\frac{1}{n} \\sum_{i=1}^{n} (x_i - \\bar{x})^2$ (campione)\n",
    "\n",
    "La scelta del quadrato è preferibile per le sue proprietà matematiche e per la sua utilità in molte tecniche statistiche.\n",
    "\n",
    "La varianza è espressa nell'unità di misura dei dati elevata al quadrato. Per ottenere una misura nella stessa unità di misura dei dati, si calcola la radice quadrata della varianza (deviazione standard).\n",
    "\n",
    "Per indicare la deviazione standard si usa $\\sigma$ nel caso della popolazione e si usa $s$ nel caso del campione.\n",
    "\n",
    "**Formula abbreviata per la varianza della popolazione ($\\sigma^2$):**\n",
    "\n",
    "$\\sigma^2 = \\frac{\\sum x_i^2}{N} - \\mu^2$\n",
    "\n",
    "**Varianza campionaria ($s^2$):**\n",
    "\n",
    "La varianza campionaria calcolata con la formula $\\frac{\\sum (x_i - \\bar{x})^2}{n}$ sottostima la varianza della popolazione.\n",
    "\n",
    "Per ottenere una stima corretta, si utilizza il fattore di correzione $\\frac{n}{n - 1}$:\n",
    "\n",
    "$s^2 = \\frac{n}{n - 1} \\cdot \\frac{\\sum (x_i - \\bar{x})^2}{n} = \\frac{\\sum (x_i - \\bar{x})^2}{n - 1}$\n",
    "\n",
    "Il denominatore $(n - 1)$ rappresenta i gradi di libertà. Se $n = 1$, la varianza non è definita, il che è coerente con l'idea che un singolo dato non può mostrare variabilità.\n",
    "\n"
   ]
  },
  {
   "cell_type": "markdown",
   "id": "ec2c4017-c6f1-451a-811a-72b933aa623e",
   "metadata": {},
   "source": [
    "**Deviazioni standard e distribuzioni a campana**\n",
    "\n",
    "\n"
   ]
  },
  {
   "cell_type": "markdown",
   "id": "ae681eb2-b44d-4abc-b171-298e02fa3334",
   "metadata": {},
   "source": [
    "**Disuguaglianza di Chebyshev:**\n",
    "\n",
    "Si chiama disuguaglianza per questo motivo \n",
    "$$\n",
    "\\int \\leq \n",
    "$$\n",
    "\n",
    "Ma si può enunciare "
   ]
  },
  {
   "cell_type": "markdown",
   "id": "b123c4d5-dc76-4e34-a66e-b86b4d741448",
   "metadata": {},
   "source": [
    "!xelatex --version"
   ]
  },
  {
   "cell_type": "code",
   "execution_count": 2,
   "id": "f407ae1c-3dfc-4577-9e5f-93c460a04b9f",
   "metadata": {},
   "outputs": [
    {
     "name": "stdout",
     "output_type": "stream",
     "text": [
      "XeTeX 3.141592653-2.6-0.999995 (TeX Live 2023)\n",
      "kpathsea version 6.3.5\n",
      "Copyright 2023 SIL International, Jonathan Kew and Khaled Hosny.\n",
      "There is NO warranty.  Redistribution of this software is\n",
      "covered by the terms of both the XeTeX copyright and\n",
      "the Lesser GNU General Public License.\n",
      "For more information about these matters, see the file\n",
      "named COPYING and the XeTeX source.\n",
      "Primary author of XeTeX: Jonathan Kew.\n",
      "Compiled with ICU version 72.1; using 72.1\n",
      "Compiled with zlib version 1.2.13; using 1.2.13\n",
      "Compiled with FreeType2 version 2.13.0; using 2.13.0\n",
      "Compiled with Graphite2 version 1.3.14; using 1.3.14\n",
      "Compiled with HarfBuzz version 7.0.1; using 7.0.1\n",
      "Compiled with libpng version 1.6.39; using 1.6.39\n",
      "Compiled with pplib version v2.05 less toxic i hope\n",
      "Using Mac OS X Core Text and Cocoa frameworks\n"
     ]
    }
   ],
   "source": [
    "!xelatex --version"
   ]
  }
 ],
 "metadata": {
  "kernelspec": {
   "display_name": "Python 3 (ipykernel)",
   "language": "python",
   "name": "python3"
  },
  "language_info": {
   "codemirror_mode": {
    "name": "ipython",
    "version": 3
   },
   "file_extension": ".py",
   "mimetype": "text/x-python",
   "name": "python",
   "nbconvert_exporter": "python",
   "pygments_lexer": "ipython3",
   "version": "3.12.7"
  }
 },
 "nbformat": 4,
 "nbformat_minor": 5
}
