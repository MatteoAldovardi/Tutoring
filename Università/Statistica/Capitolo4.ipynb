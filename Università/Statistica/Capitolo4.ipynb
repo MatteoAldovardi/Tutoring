{
 "cells": [
  {
   "cell_type": "markdown",
   "id": "cdbd403d-e5be-4463-b405-073c2a4a390d",
   "metadata": {},
   "source": [
    "# Descrivere le relazioni tra variabili\n",
    "\n",
    "**Variabile risposta o dipendente** è una variabile i cui valori possono essere spiegati attraverso i valori della **variabile esplicativa o indipendente.**\n",
    "\n",
    "Diagaramma a disperisone mostra la relazione tra la variabile risposta e variabile esplicativa"
   ]
  },
  {
   "cell_type": "code",
   "execution_count": 2,
   "id": "884afe25-bd72-4928-ad87-0ea6acd9c430",
   "metadata": {},
   "outputs": [
    {
     "data": {
      "application/vnd.jupyter.widget-view+json": {
       "model_id": "06e4666781dd4637afb87601df5043ce",
       "version_major": 2,
       "version_minor": 0
      },
      "text/plain": [
       "interactive(children=(FloatSlider(value=2.5, description='a', max=3.0, min=-3.0), FloatSlider(value=3.0, descr…"
      ]
     },
     "metadata": {},
     "output_type": "display_data"
    }
   ],
   "source": [
    "import numpy as np\n",
    "import matplotlib.pyplot as plt\n",
    "from ipywidgets import interact\n",
    "\n",
    "# Parametri iniziali\n",
    "np.random.seed(42)\n",
    "n_points = 100\n",
    "a_true = 2.5\n",
    "noise_level = 3.0\n",
    "\n",
    "# Generazione dati\n",
    "x = np.linspace(0, 10, n_points)\n",
    "epsilon = np.random.normal(0, noise_level, n_points)\n",
    "y = a_true * x + epsilon\n",
    "\n",
    "# Funzione per l'plot interattivo\n",
    "@interact(a=(-3.0, 3.0, 0.1), noise=(0.1, 5.0, 0.5), n_points=(10, 500, 10))\n",
    "def update_plot(a=2.5, noise=3.0, n_points=100):\n",
    "    x = np.linspace(0, 10, n_points)\n",
    "    epsilon = np.random.normal(0, noise, n_points)\n",
    "    y = a * x + epsilon\n",
    "    \n",
    "    plt.figure(figsize=(10, 6))\n",
    "    plt.scatter(x, y, alpha=0.6, label='Dati osservati')\n",
    "    plt.plot(x, a * x, 'r--', lw=2, label='Relazione vera: $y = ax$')\n",
    "    \n",
    "    # Regressione lineare\n",
    "    coeff = np.polyfit(x, y, 1)\n",
    "    plt.plot(x, np.polyval(coeff, x), 'g-', lw=2, \n",
    "             label=f'Regressione: y = {coeff[0]:.2f}x + {coeff[1]:.2f}')\n",
    "    \n",
    "    plt.title(f'Relazione lineare con rumore (σ={noise})')\n",
    "    plt.xlabel('Variabile indipendente (x)')\n",
    "    plt.ylabel('Variabile dipendente (y)')\n",
    "    plt.legend()\n",
    "    plt.grid(True)\n",
    "    plt.show()\n",
    "\n",
    "    # Calcolo correlazione\n",
    "    corr_coef = np.corrcoef(x, y)[0, 1]\n",
    "    print(f\"Coefficiente di correlazione di Pearson: {corr_coef:.2f}\")"
   ]
  },
  {
   "cell_type": "markdown",
   "id": "177ff4f6-e89e-4b33-baf1-17fd024887db",
   "metadata": {},
   "source": [
    "Due variabili linearmente indipendenti si dicono **concordanti**(**discordanti**) se a valori superiori alla media di una variabile corrisondono valori superiori(inferiori) alla media nell'altra.  "
   ]
  },
  {
   "cell_type": "markdown",
   "id": "760606fd-cb81-49bc-83ff-2776940f95f9",
   "metadata": {},
   "source": [
    "### Formula per il coefficiente di correlazione lineare campionario è \n",
    "\n",
    "Il coefficiente di correlazione è una misura dell'intensità della relazione fra variabile esplicativa e variabile risposta.\n",
    "\n",
    "$$\n",
    "r = \\dfrac{\\sum \\left( \\frac{x_i - \\bar{x}}{s_x} \\right) \\cdot \\left(  \\frac{y_i - \\bar{y}}{s_y} \\right) }{n-1}\n",
    "$$\n",
    "\n",
    "La somma dei prodotti degli z-score delle coppie $(x_i, y_i)$ diviso $n-1$\n",
    "\n",
    "Il coefficiente di correlazione della popolazione può essere calcolato anche come \n",
    "\n",
    "$$\n",
    "\\rho = \\dfrac{\\sum x_i \\ y_i - \\frac{\\sum x_i \\cdot \\sum  y_i}{N}}{\\sqrt{\\left( \\sum x_i^2 - \\frac{\\left( \\sum x_i \\right)^2}{N} \\right)} \\cdot \\sqrt{\\left( \\sum y_i^2 - \\frac{\\left( \\sum y_i \\right)^2}{N} \\right)}}\n",
    "$$\n",
    "\n",
    "\n",
    "### NB:\n",
    "Il coefficiente $r$ non è robusto."
   ]
  },
  {
   "cell_type": "markdown",
   "id": "3d5f684c-551a-4451-8d76-6df76d499bc5",
   "metadata": {},
   "source": [
    "## Come determinare se esiste una relazione lineare fra due variabili? Il metodo dei minimi quadrati."
   ]
  },
  {
   "cell_type": "code",
   "execution_count": null,
   "id": "7abdc954-b033-4d92-ac63-ebabb5f1bb90",
   "metadata": {},
   "outputs": [],
   "source": []
  }
 ],
 "metadata": {
  "kernelspec": {
   "display_name": "Python 3 (ipykernel)",
   "language": "python",
   "name": "python3"
  },
  "language_info": {
   "codemirror_mode": {
    "name": "ipython",
    "version": 3
   },
   "file_extension": ".py",
   "mimetype": "text/x-python",
   "name": "python",
   "nbconvert_exporter": "python",
   "pygments_lexer": "ipython3",
   "version": "3.12.7"
  }
 },
 "nbformat": 4,
 "nbformat_minor": 5
}
