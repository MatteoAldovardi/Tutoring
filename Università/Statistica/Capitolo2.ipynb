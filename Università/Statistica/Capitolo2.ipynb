{
 "cells": [
  {
   "cell_type": "code",
   "execution_count": 6,
   "id": "26f08f3e-3483-4410-8032-3cdbbfa440a2",
   "metadata": {},
   "outputs": [
    {
     "name": "stdout",
     "output_type": "stream",
     "text": [
      "Collecting pandas\n",
      "  Downloading pandas-2.2.3-cp312-cp312-macosx_10_9_x86_64.whl.metadata (89 kB)\n",
      "Requirement already satisfied: numpy>=1.26.0 in /opt/anaconda3/lib/python3.12/site-packages (from pandas) (1.26.4)\n",
      "Requirement already satisfied: python-dateutil>=2.8.2 in /opt/anaconda3/lib/python3.12/site-packages (from pandas) (2.9.0.post0)\n",
      "Requirement already satisfied: pytz>=2020.1 in /opt/anaconda3/lib/python3.12/site-packages (from pandas) (2024.1)\n",
      "Collecting tzdata>=2022.7 (from pandas)\n",
      "  Downloading tzdata-2025.1-py2.py3-none-any.whl.metadata (1.4 kB)\n",
      "Requirement already satisfied: six>=1.5 in /opt/anaconda3/lib/python3.12/site-packages (from python-dateutil>=2.8.2->pandas) (1.16.0)\n",
      "Downloading pandas-2.2.3-cp312-cp312-macosx_10_9_x86_64.whl (12.5 MB)\n",
      "\u001b[2K   \u001b[90m━━━━━━━━━━━━━━━━━━━━━━━━━━━━━━━━━━━━━━━━\u001b[0m \u001b[32m12.5/12.5 MB\u001b[0m \u001b[31m5.1 MB/s\u001b[0m eta \u001b[36m0:00:00\u001b[0ma \u001b[36m0:00:01\u001b[0m\n",
      "\u001b[?25hDownloading tzdata-2025.1-py2.py3-none-any.whl (346 kB)\n",
      "Installing collected packages: tzdata, pandas\n",
      "Successfully installed pandas-2.2.3 tzdata-2025.1\n"
     ]
    }
   ],
   "source": [
    "!pip install pandas"
   ]
  },
  {
   "cell_type": "code",
   "execution_count": 1,
   "id": "02786d54-3e53-425e-aae9-b2bf2929bf57",
   "metadata": {},
   "outputs": [
    {
     "data": {
      "text/html": [
       "\n",
       "        <iframe\n",
       "            width=\"100%\"\n",
       "            height=\"650\"\n",
       "            src=\"http://127.0.0.1:8050/\"\n",
       "            frameborder=\"0\"\n",
       "            allowfullscreen\n",
       "            \n",
       "        ></iframe>\n",
       "        "
      ],
      "text/plain": [
       "<IPython.lib.display.IFrame at 0x115fa0170>"
      ]
     },
     "metadata": {},
     "output_type": "display_data"
    }
   ],
   "source": [
    "import dash\n",
    "from dash import dcc, html\n",
    "import plotly.express as px\n",
    "import pandas as pd\n",
    "import numpy as np\n",
    "\n",
    "# Data\n",
    "Tuition = [\"0-1,999\", \"2,000-3,999\", \"6,000-7,999\", \"8,000-9,999\", \"10,000-11,999\", \"12,000-13,999\", \"14,000-15,999\", \"16,000-17,999\", \"18,000-19,999\", \"20,000-21,999\", \"22,000-23,999\", \"24,000-25,999\", \"26,000-27,999\"]\n",
    "four_year_college_numbers = [18, 132, 180, 106, 99, 89, 98, 125, 116, 117, 100, 83, 52]\n",
    "\n",
    "# Ensure tuition levels are sorted correctly\n",
    "sorted_indices = np.argsort([int(range_.split('-')[0].replace(',', '')) for range_ in Tuition])\n",
    "Tuition = [Tuition[i] for i in sorted_indices]\n",
    "four_year_college_numbers = [four_year_college_numbers[i] for i in sorted_indices]\n",
    "\n",
    "# Create DataFrame\n",
    "df = pd.DataFrame({'Tuition Range': Tuition, 'Number of Colleges': four_year_college_numbers})\n",
    "\n",
    "# Create pie chart\n",
    "fig_pie = px.pie(df, values='Number of Colleges', names='Tuition Range', title='Tuition Distribution of Four-Year Colleges')\n",
    "\n",
    "# Create histogram\n",
    "fig_hist = px.bar(df, x='Tuition Range', y='Number of Colleges', title='Histogram of Tuition Fees', labels={'Number of Colleges': 'Count', 'Tuition Range': 'Tuition Fee Range'})\n",
    "\n",
    "# Descriptive statistics\n",
    "stats = df['Number of Colleges'].describe().to_frame()\n",
    "\n",
    "# Calculate median\n",
    "median_index = np.argsort(four_year_college_numbers)[len(four_year_college_numbers) // 2]\n",
    "median_value = Tuition[median_index]\n",
    "\n",
    "# Dash app\n",
    "app = dash.Dash(__name__)\n",
    "\n",
    "app.layout = html.Div([\n",
    "    html.H1(\"Tuition Fee Distribution\"),\n",
    "    dcc.Graph(figure=fig_pie),\n",
    "    dcc.Graph(figure=fig_hist),\n",
    "    html.H2(\"Descriptive Statistics\"),\n",
    "    html.Pre(stats.to_string()),\n",
    "    html.H2(\"Median Tuition Range\"),\n",
    "    html.Pre(f\"{median_value}\")\n",
    "])\n",
    "\n",
    "if __name__ == '__main__':\n",
    "    app.run_server(debug=True)\n"
   ]
  }
 ],
 "metadata": {
  "kernelspec": {
   "display_name": "Python 3 (ipykernel)",
   "language": "python",
   "name": "python3"
  },
  "language_info": {
   "codemirror_mode": {
    "name": "ipython",
    "version": 3
   },
   "file_extension": ".py",
   "mimetype": "text/x-python",
   "name": "python",
   "nbconvert_exporter": "python",
   "pygments_lexer": "ipython3",
   "version": "3.12.7"
  }
 },
 "nbformat": 4,
 "nbformat_minor": 5
}
