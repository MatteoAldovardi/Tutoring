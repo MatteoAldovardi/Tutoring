{
 "cells": [
  {
   "cell_type": "code",
   "execution_count": 9,
   "id": "8b642624-e3c7-41f2-8019-6f9e444414e7",
   "metadata": {},
   "outputs": [],
   "source": [
    "import numpy as np \n",
    "\n",
    "## Esercizio 3.37\n",
    "\n",
    "line1 = [0, 0, 1, 4, 1, 1, 1, 5, 1, 3]\n",
    "line2 = [0, 1, 0, 1, 0, 4, 0, 1, 0, 1]\n",
    "line3 = [0, 0, 0, 0, 2, 0, 0, 0, 0, 0]\n",
    "line4 = [1, 0, 2, 0, 0, 0, 1, 2, 1, 1]\n",
    "line5 = [2, 0, 1, 0, 1, 3, 1, 1, 0, 3]\n",
    "\n",
    "data = line1 + line2 + line3 + line4 + line5\n",
    "\n",
    "data = np.array(data)\n",
    "\n",
    "N = len(data)\n",
    "\n",
    "#\n",
    "\n",
    "\n"
   ]
  }
 ],
 "metadata": {
  "kernelspec": {
   "display_name": "Python 3 (ipykernel)",
   "language": "python",
   "name": "python3"
  },
  "language_info": {
   "codemirror_mode": {
    "name": "ipython",
    "version": 3
   },
   "file_extension": ".py",
   "mimetype": "text/x-python",
   "name": "python",
   "nbconvert_exporter": "python",
   "pygments_lexer": "ipython3",
   "version": "3.12.7"
  }
 },
 "nbformat": 4,
 "nbformat_minor": 5
}
