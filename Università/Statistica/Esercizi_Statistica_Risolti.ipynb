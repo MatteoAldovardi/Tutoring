{
 "cells": [
  {
   "cell_type": "markdown",
   "id": "e4bbf100-8619-4081-a81e-afa140f6b0da",
   "metadata": {},
   "source": [
    "## Tabellle e quantili:"
   ]
  },
  {
   "cell_type": "markdown",
   "id": "6fb9500a-e78b-49d5-ac0a-eb01eca2184c",
   "metadata": {},
   "source": [
    "# Probability of a Standard Normal Variable Between -2.04 and 2.04\n",
    "\n",
    "This document explains how to find the probability that a standard normal random variable, denoted as $Z$, falls between $-2.04$ and $2.04$, i.e., $P(-2.04 < Z < 2.04)$. It also includes functions to calculate quantiles.\n",
    "\n",
    "## Understanding the Standard Normal Distribution\n",
    "\n",
    "The standard normal distribution is a bell-shaped, symmetrical distribution with a mean of 0 and a standard deviation of $1$. It is often represented as N(0, 1).\n",
    "\n",
    "## Finding the Probability\n",
    "\n",
    "To find $P(-2.04 < Z < 2.04)$, we can use the following steps:\n",
    "\n",
    "1.  **Find $P(Z < 2.04)$:**\n",
    "    * This represents the area under the standard normal curve to the left of $2.04$.\n",
    "    * We can use a standard normal table (Z-table) or a statistical software/calculator to find this probability.\n",
    "    * From a Z-table, $P(Z < 2.04) ≈ 0.9793$.\n",
    "\n",
    "2.  **Find $P(Z < -2.04)$:**\n",
    "    * This represents the area under the standard normal curve to the left of -2.04.\n",
    "    * Due to the symmetry of the standard normal distribution, P(Z < -2.04) = 1 - P(Z < 2.04).\n",
    "    * Therefore, $P(Z < -2.04) ≈ 1 - 0.9793 = 0.0207$.\n",
    "\n",
    "3.  **Calculate $P(-2.04 < Z < 2.04)$:**\n",
    "    * $P(-2.04 < Z < 2.04) = P(Z < 2.04) - P(Z < -2.04)$.\n",
    "    * $P(-2.04 < Z < 2.04) ≈ 0.9793 - 0.0207 = 0.9586$.\n",
    "\n",
    "## Using Complementary Probability\n",
    "\n",
    "Alternatively, due to symmetry:\n",
    "\n",
    "* $P(-2.04 < Z < 2.04) = 1 - P(Z < -2.04) - P(Z > 2.04)$.\n",
    "* Since $P(Z > 2.04) = P(Z < -2.04)$,\n",
    "* $P(-2.04 < Z < 2.04) = 1 - 2 * P(Z < -2.04)$\n",
    "* $P(-2.04 < Z < 2.04) = 1 - 2 * 0.0207 = 1 - 0.0414 = 0.9586$.\n",
    "\n",
    "\n",
    "\n"
   ]
  },
  {
   "cell_type": "code",
   "execution_count": null,
   "id": "e95295cc-9a7e-4771-8d17-a7ba6893cfff",
   "metadata": {},
   "outputs": [],
   "source": [
    "\n",
    "import scipy.stats as stats\n",
    "\n",
    "# Calculate P(Z < 2.04)\n",
    "prob_z_less_204 = stats.norm.cdf(2.04)\n",
    "print(f\"P(Z < 2.04): {prob_z_less_204:.4f}\")\n",
    "\n",
    "# Calculate P(Z < -2.04)\n",
    "prob_z_less_neg_204 = stats.norm.cdf(-2.04)\n",
    "print(f\"P(Z < -2.04): {prob_z_less_neg_204:.4f}\")\n",
    "\n",
    "# Calculate P(-2.04 < Z < 2.04) using the difference\n",
    "prob_between = prob_z_less_204 - prob_z_less_neg_204\n",
    "print(f\"P(-2.04 < Z < 2.04): {prob_between:.4f}\")\n",
    "\n",
    "# Calculate P(-2.04 < Z < 2.04) using complementary probability\n",
    "prob_between_complement = 1 - 2 * prob_z_less_neg_204\n",
    "print(f\"P(-2.04 < Z < 2.04) (complementary): {prob_between_complement:.4f}\")\n",
    "\n",
    "# Function to calculate quantiles (percentiles)\n",
    "def calculate_quantile(percentile):\n",
    "    \"\"\"Calculates the quantile (percentile) for a standard normal distribution.\"\"\"\n",
    "    return stats.norm.ppf(percentile / 100)\n",
    "\n",
    "# Example: Calculate the 95th percentile\n",
    "quantile_95 = calculate_quantile(95)\n",
    "print(f\"95th percentile: {quantile_95:.4f}\")\n",
    "\n",
    "# Example: Calculate the 25th percentile\n",
    "quantile_25 = calculate_quantile(25)\n",
    "print(f\"25th percentile: {quantile_25:.4f}\")\n",
    "\n",
    "# Function to calculate probability between two quantiles\n",
    "def probability_between_quantiles(lower_quantile, upper_quantile):\n",
    "    \"\"\"Calculates the probability between two quantiles in a standard normal distribution.\"\"\"\n",
    "    return stats.norm.cdf(upper_quantile) - stats.norm.cdf(lower_quantile)\n",
    "\n",
    "# Example: calculate the probability between -1 and 1\n",
    "prob_between_neg1_and_1 = probability_between_quantiles(-1, 1)\n",
    "print(f\"Probability between -1 and 1: {prob_between_neg1_and_1:.4f}\")"
   ]
  },
  {
   "cell_type": "markdown",
   "id": "530c3372-e2e0-452e-9b33-16b80083734f",
   "metadata": {},
   "source": [
    "## Misure tendenza centrale e dispersione:"
   ]
  },
  {
   "cell_type": "markdown",
   "id": "824ef85e-d64b-4d4e-adb9-6c04abb0140d",
   "metadata": {},
   "source": [
    "**Commento sulla definizione di deviazione standard:**\n",
    "\n",
    "La varianza della popolazione \n",
    "$$\n",
    "\\frac{1}{N} \\cdot \\sum_{i=1}^{N} (x_{i} - \\bar{x})^2. \n",
    "$$\n",
    " \n",
    "Perché quadrati? Un inizio di risposta soddisfacente credo che richiederebbe diversi libri.\n",
    "Ecco qualche motivo euristico:\n",
    "- - il quadrato consente, come il valore assoluto, di considerare gli scarti a meno del segno. Però $f(x) = x^2$ è derivabile dappertutto con derivata $f'(x) = 2x,$ mentre il valore assoluto $f(x) = \\vert x \\vert$ in zero ha uno spigolo.\n",
    "- il quadrato rende ancora più piccoli gli scarti piccoli e ancora più grandi gli scarti grandi\n",
    "\n",
    "\n",
    "\n",
    "Quando si prende lo stimatore $s^2$ campionario della varianza bisogna sostituire $n$, taglia del campione, a $N$ e moltiplicare per un fattore di correzione $$ \\frac{n}{n-1}.$$\n",
    "\n",
    "$$\n",
    "\\frac{n}{n-1} \\cdot \\frac{1}{n} \\cdot \\sum_{i=1}^{n} (x_{i} - \\bar{x})^2 = \\frac{1}{n-1} \\cdot \\sum_{i=1}^{n} (x_{i} - \\bar{x})^2.  \n",
    "$$\n",
    "Un modo semplice per ricordare questa correzione è il seguente $s^2$ è una stima di $\\sigma^2$ che è la variabilità dei dati. Riuscire a stimare la variabilità dei dati .\n",
    "\n",
    "\n",
    "\n",
    "**Motivazione per considerare la deviazione standard:**\n",
    "\n",
    "Unità di misura omogenee con i membri del campione di cui si sta provando a stimare la variabilità con esempio stima delle lunghezze. \n"
   ]
  },
  {
   "cell_type": "code",
   "execution_count": null,
   "id": "d4b3588d-fc13-4ddb-bc70-7104f6db8485",
   "metadata": {},
   "outputs": [],
   "source": []
  },
  {
   "cell_type": "code",
   "execution_count": null,
   "id": "fcffce20-8252-4ea5-ae36-9a543332237f",
   "metadata": {},
   "outputs": [],
   "source": []
  },
  {
   "cell_type": "markdown",
   "id": "10a6d956-b3ad-4b7d-b390-de6d20d69700",
   "metadata": {},
   "source": [
    "## Regressione Lineare:"
   ]
  },
  {
   "cell_type": "markdown",
   "id": "bc422b81-ebf6-42d4-ad46-cc631b0de9f6",
   "metadata": {},
   "source": [
    "Quello dei video game "
   ]
  }
 ],
 "metadata": {
  "kernelspec": {
   "display_name": "Python 3 (ipykernel)",
   "language": "python",
   "name": "python3"
  },
  "language_info": {
   "codemirror_mode": {
    "name": "ipython",
    "version": 3
   },
   "file_extension": ".py",
   "mimetype": "text/x-python",
   "name": "python",
   "nbconvert_exporter": "python",
   "pygments_lexer": "ipython3",
   "version": "3.12.7"
  }
 },
 "nbformat": 4,
 "nbformat_minor": 5
}
