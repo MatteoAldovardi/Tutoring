{
  "nbformat": 4,
  "nbformat_minor": 0,
  "metadata": {
    "colab": {
      "provenance": [],
      "authorship_tag": "ABX9TyOPY+uwvhJhXBojROFj0I0e",
      "include_colab_link": true
    },
    "kernelspec": {
      "name": "python3",
      "display_name": "Python 3"
    },
    "language_info": {
      "name": "python"
    }
  },
  "cells": [
    {
      "cell_type": "markdown",
      "metadata": {
        "id": "view-in-github",
        "colab_type": "text"
      },
      "source": [
        "<a href=\"https://colab.research.google.com/github/MatteoAldovardi/Tutoring/blob/main/Studio_di_funzione.ipynb\" target=\"_parent\"><img src=\"https://colab.research.google.com/assets/colab-badge.svg\" alt=\"Open In Colab\"/></a>"
      ]
    },
    {
      "cell_type": "markdown",
      "source": [
        "### Es1:"
      ],
      "metadata": {
        "id": "-Jw-ECVEqyuH"
      }
    },
    {
      "cell_type": "markdown",
      "source": [
        "$$\n",
        "f(x) = \\ln(x^2 + x - 1)\n",
        "$$"
      ],
      "metadata": {
        "id": "q1qNkQ7_qXeM"
      }
    },
    {
      "cell_type": "markdown",
      "source": [
        "\n",
        "<details>\n",
        "  <summary><strong>Mostra soluzione</strong></summary>\n",
        "\n",
        "```python\n",
        "import sympy as sp\n",
        "\n",
        "# Define symbols: x is the variable; a, b, c are parameters.\n",
        "x, a, b, c = sp.symbols('x a b c')\n",
        "\n",
        "# Define the function: f(x) = ln(a*x + b*x^2 + c)\n",
        "f = sp.log(a*x + b*x**2 + c)\n",
        "print(\"Function:\")\n",
        "sp.pretty_print(f)\n",
        "print(\"\\n\")\n",
        "# f(x) = ln(a*x + b*x² + c)\n",
        "\n",
        "# First derivative: f'(x)\n",
        "f1 = sp.diff(f, x)\n",
        "print(\"First derivative f'(x):\")\n",
        "sp.pretty_print(sp.simplify(f1))\n",
        "print(\"\\n\")\n",
        "# f'(x) = (a + 2*b*x) / (a*x + b*x² + c)\n",
        "\n",
        "# Second derivative: f''(x)\n",
        "f2 = sp.diff(f1, x)\n",
        "f2_simpl = sp.simplify(f2)\n",
        "print(\"Second derivative f''(x):\")\n",
        "sp.pretty_print(f2_simpl)\n",
        "print(\"\\n\")\n",
        "# f''(x) = { (2*b*(a*x + b*x² + c) - (a + 2*b*x)²) } / (a*x + b*x² + c)²\n",
        "\n",
        "# Extract numerator and denominator of the second derivative:\n",
        "num, den = sp.fraction(f2_simpl)\n",
        "print(\"Numerator before expansion:\")\n",
        "sp.pretty_print(num)\n",
        "print(\"\\n\")\n",
        "\n",
        "# Expand the numerator:\n",
        "expanded_num = sp.expand(num)\n",
        "print(\"Expanded numerator:\")\n",
        "sp.pretty_print(expanded_num)\n",
        "print(\"\\n\")\n",
        "\n",
        "# Partially evaluate by substituting b = 1 and c = -1:\n",
        "partially_evaluated = sp.expand(expanded_num.subs({b: 1, c: -1}))\n",
        "print(\"Partially evaluated numerator (with b = 1, c = -1):\")\n",
        "sp.pretty_print(partially_evaluated)\n",
        "print(\"\\n\")\n",
        "\n",
        "# Final study with specific parameter choices:\n",
        "print(\"The final choice is b = 1, c = -1, a = 1\")\n",
        "print(\"Study the function:\")\n",
        "print(\"    f(x) = ln(x² + x - 1)\")\n",
        "# Define the function for plotting:\n",
        "def f_plot(x):\n",
        "    return np.log(x**2 + x - 1)\n",
        "\n",
        "# Define x values (avoiding the singularity where x² + x - 1 ≤ 0)\n",
        "x_vals = np.linspace(-5, 5, 1000)\n",
        "y_vals = np.array([f_plot(xi) if xi**2 + xi - 1 > 0 else np.nan for xi in x_vals])\n",
        "\n",
        "# Plot the function:\n",
        "plt.figure(figsize=(8, 5))\n",
        "plt.plot(x_vals, y_vals, label=r'$f(x) = \\ln(x^2 + x - 1)$', color='b')\n",
        "plt.axhline(0, color='black', linewidth=0.5, linestyle='--')\n",
        "plt.axvline(0, color='black', linewidth=0.5, linestyle='--')\n",
        "plt.xlabel(\"x\")\n",
        "plt.ylabel(\"f(x)\")\n",
        "plt.title(\"Plot of $f(x) = \\ln(x^2 + x - 1)$\")\n",
        "plt.legend()\n",
        "plt.grid(True)\n",
        "plt.show()\n",
        "```\n",
        "</details>\n"
      ],
      "metadata": {
        "id": "9yuIAXxnlIC2"
      }
    },
    {
      "cell_type": "markdown",
      "source": [
        "### Es2:"
      ],
      "metadata": {
        "id": "7TiIEYMGq7wL"
      }
    },
    {
      "cell_type": "markdown",
      "source": [
        "$f(x) = \\ln(cos(x))$"
      ],
      "metadata": {
        "id": "z0nfJmv9oiAV"
      }
    },
    {
      "cell_type": "markdown",
      "source": [
        "<details>\n",
        "  <summary><strong>Mostra soluzione</strong></summary>\n",
        "\n",
        "```python\n",
        "import sympy as sp\n",
        "import numpy as np\n",
        "import matplotlib.pyplot as plt\n",
        "\n",
        "# Define symbols\n",
        "x = sp.symbols('x')\n",
        "\n",
        "# Define the function: f(x) = ln(cos(x))\n",
        "f = sp.log(sp.cos(x))\n",
        "print(\"Function:\")\n",
        "sp.pretty_print(f)\n",
        "print(\"\\n\")\n",
        "\n",
        "# First derivative: f'(x)\n",
        "f1 = sp.diff(f, x)\n",
        "print(\"First derivative f'(x):\")\n",
        "sp.pretty_print(sp.simplify(f1))\n",
        "print(\"\\n\")\n",
        "\n",
        "# Second derivative: f''(x)\n",
        "f2 = sp.diff(f1, x)\n",
        "f2_simpl = sp.simplify(f2)\n",
        "print(\"Second derivative f''(x):\")\n",
        "sp.pretty_print(f2_simpl)\n",
        "print(\"\\n\")\n",
        "\n",
        "# Extract numerator and denominator of the second derivative:\n",
        "num, den = sp.fraction(f2_simpl)\n",
        "print(\"Numerator before expansion:\")\n",
        "sp.pretty_print(num)\n",
        "print(\"\\n\")\n",
        "\n",
        "# Expand the numerator:\n",
        "expanded_num = sp.expand(num)\n",
        "print(\"Expanded numerator:\")\n",
        "sp.pretty_print(expanded_num)\n",
        "print(\"\\n\")\n",
        "\n",
        "# Final study:\n",
        "print(\"Study the function:\")\n",
        "print(\"    f(x) = ln(cos(x))\")\n",
        "\n",
        "# Define the function for plotting:\n",
        "def f_plot(x):\n",
        "    return np.log(np.cos(x))\n",
        "\n",
        "# Define x values, avoiding singularities (where cos(x) ≤ 0)\n",
        "x_vals = np.linspace(-2*np.pi, 2*np.pi, 1000)\n",
        "y_vals = np.array([f_plot(xi) if np.cos(xi) > 0 else np.nan for xi in x_vals])\n",
        "\n",
        "# Plot the function:\n",
        "plt.figure(figsize=(8, 5))\n",
        "plt.plot(x_vals, y_vals, label=r'$f(x) = \\ln(\\cos x)$', color='b')\n",
        "plt.axhline(0, color='black', linewidth=0.5, linestyle='--')\n",
        "plt.axvline(0, color='black', linewidth=0.5, linestyle='--')\n",
        "plt.xlabel(\"x\")\n",
        "plt.ylabel(\"f(x)\")\n",
        "plt.title(\"Plot of $f(x) = \\ln(\\cos x)$\")\n",
        "plt.legend()\n",
        "plt.grid(True)\n",
        "plt.show()\n",
        "```\n",
        "</details>\n"
      ],
      "metadata": {
        "id": "c7gMQT7frAeD"
      }
    },
    {
      "cell_type": "markdown",
      "source": [
        "### Es 3:\n",
        "\n",
        "$$\n",
        "f(x) = \\ln(sin(x))\n",
        "$$\n"
      ],
      "metadata": {
        "id": "U5IkVChzLNgg"
      }
    },
    {
      "cell_type": "markdown",
      "source": [
        "<details>\n",
        "  <summary><strong>Mostra soluzione</strong></summary>\n",
        "$$f(x) = \\ln(\\sin(y)) = \\ln (\\cos (y - \\frac{\\pi}{2}))$$\n",
        "</details>\n"
      ],
      "metadata": {
        "id": "TG0aJLFKLtEU"
      }
    },
    {
      "cell_type": "markdown",
      "source": [
        "$$ f(x) = \\ln((x - 1)^{a}\\cdot (x-2)^{b} \\cdot (x -3)^{c})$$ con $a, b, c \\in \\mathbb{N}.$\n",
        "Scegli i parametri che vuoi per studiare le funzioni.\n",
        "\n",
        "**NB:** Fai con $a=b=c=1$ fai con zeri parametrici in modo da avere zeri facili per la derivata e magari integra per avere una funzione interessante per fare i flessi. Scegli tre zeri $x_1 > x_2 > 0, \\ x_3 = 0$"
      ],
      "metadata": {
        "id": "uJzGADx-NIMt"
      }
    },
    {
      "cell_type": "markdown",
      "source": [
        "### Es 6:\n",
        "\n",
        "\n",
        "$$ f(x) = (x-2)^3 \\cdot ( \\ln(x-2) - 1)$$\n"
      ],
      "metadata": {
        "id": "oWyKNZLGW5hH"
      }
    },
    {
      "cell_type": "markdown",
      "source": [
        "### Es 7\n",
        "\n",
        "$$f(x) = x \\cdot exp(-\\dfrac{x}{e^{x} + 1 })$$\n"
      ],
      "metadata": {
        "id": "YcZIbP2UXvn_"
      }
    },
    {
      "cell_type": "markdown",
      "source": [
        "### Es 8\n",
        "\n",
        "$$f(x) = x^{3}cos(x) \\cdot exp(-x^2)$$"
      ],
      "metadata": {
        "id": "J6lQNXY2YMKu"
      }
    }
  ]
}