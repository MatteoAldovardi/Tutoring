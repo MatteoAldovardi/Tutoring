{
 "cells": [
  {
   "cell_type": "markdown",
   "metadata": {
    "colab_type": "text",
    "id": "view-in-github"
   },
   "source": [
    "<a href=\"https://colab.research.google.com/github/MatteoAldovardi/Tutoring/blob/main/Studio_di_funzione.ipynb\" target=\"_parent\"><img src=\"https://colab.research.google.com/assets/colab-badge.svg\" alt=\"Open In Colab\"/></a>"
   ]
  },
  {
   "cell_type": "markdown",
   "metadata": {
    "id": "-Jw-ECVEqyuH"
   },
   "source": [
    "### Es1:"
   ]
  },
  {
   "cell_type": "markdown",
   "metadata": {
    "id": "q1qNkQ7_qXeM"
   },
   "source": [
    "$$\n",
    "f(x) = \\ln(x^2 + x - 1)\n",
    "$$"
   ]
  },
  {
   "cell_type": "markdown",
   "metadata": {
    "id": "9yuIAXxnlIC2"
   },
   "source": [
    "\n",
    "<details>\n",
    "  <summary><strong>Mostra soluzione</strong></summary>\n",
    "\n",
    "```python\n",
    "import sympy as sp\n",
    "\n",
    "# Define symbols: x is the variable; a, b, c are parameters.\n",
    "x, a, b, c = sp.symbols('x a b c')\n",
    "\n",
    "# Define the function: f(x) = ln(a*x + b*x^2 + c)\n",
    "f = sp.log(a*x + b*x**2 + c)\n",
    "print(\"Function:\")\n",
    "sp.pretty_print(f)\n",
    "print(\"\\n\")\n",
    "# f(x) = ln(a*x + b*x² + c)\n",
    "\n",
    "# First derivative: f'(x)\n",
    "f1 = sp.diff(f, x)\n",
    "print(\"First derivative f'(x):\")\n",
    "sp.pretty_print(sp.simplify(f1))\n",
    "print(\"\\n\")\n",
    "# f'(x) = (a + 2*b*x) / (a*x + b*x² + c)\n",
    "\n",
    "# Second derivative: f''(x)\n",
    "f2 = sp.diff(f1, x)\n",
    "f2_simpl = sp.simplify(f2)\n",
    "print(\"Second derivative f''(x):\")\n",
    "sp.pretty_print(f2_simpl)\n",
    "print(\"\\n\")\n",
    "# f''(x) = { (2*b*(a*x + b*x² + c) - (a + 2*b*x)²) } / (a*x + b*x² + c)²\n",
    "\n",
    "# Extract numerator and denominator of the second derivative:\n",
    "num, den = sp.fraction(f2_simpl)\n",
    "print(\"Numerator before expansion:\")\n",
    "sp.pretty_print(num)\n",
    "print(\"\\n\")\n",
    "\n",
    "# Expand the numerator:\n",
    "expanded_num = sp.expand(num)\n",
    "print(\"Expanded numerator:\")\n",
    "sp.pretty_print(expanded_num)\n",
    "print(\"\\n\")\n",
    "\n",
    "# Partially evaluate by substituting b = 1 and c = -1:\n",
    "partially_evaluated = sp.expand(expanded_num.subs({b: 1, c: -1}))\n",
    "print(\"Partially evaluated numerator (with b = 1, c = -1):\")\n",
    "sp.pretty_print(partially_evaluated)\n",
    "print(\"\\n\")\n",
    "\n",
    "# Final study with specific parameter choices:\n",
    "print(\"The final choice is b = 1, c = -1, a = 1\")\n",
    "print(\"Study the function:\")\n",
    "print(\"    f(x) = ln(x² + x - 1)\")\n",
    "# Define the function for plotting:\n",
    "def f_plot(x):\n",
    "    return np.log(x**2 + x - 1)\n",
    "\n",
    "# Define x values (avoiding the singularity where x² + x - 1 ≤ 0)\n",
    "x_vals = np.linspace(-5, 5, 1000)\n",
    "y_vals = np.array([f_plot(xi) if xi**2 + xi - 1 > 0 else np.nan for xi in x_vals])\n",
    "\n",
    "# Plot the function:\n",
    "plt.figure(figsize=(8, 5))\n",
    "plt.plot(x_vals, y_vals, label=r'$f(x) = \\ln(x^2 + x - 1)$', color='b')\n",
    "plt.axhline(0, color='black', linewidth=0.5, linestyle='--')\n",
    "plt.axvline(0, color='black', linewidth=0.5, linestyle='--')\n",
    "plt.xlabel(\"x\")\n",
    "plt.ylabel(\"f(x)\")\n",
    "plt.title(\"Plot of $f(x) = \\ln(x^2 + x - 1)$\")\n",
    "plt.legend()\n",
    "plt.grid(True)\n",
    "plt.show()\n",
    "```\n",
    "</details>\n"
   ]
  },
  {
   "cell_type": "markdown",
   "metadata": {
    "id": "7TiIEYMGq7wL"
   },
   "source": [
    "### Es2:"
   ]
  },
  {
   "cell_type": "markdown",
   "metadata": {
    "id": "z0nfJmv9oiAV"
   },
   "source": [
    "$f(x) = \\ln(cos(x))$"
   ]
  },
  {
   "cell_type": "markdown",
   "metadata": {
    "id": "c7gMQT7frAeD"
   },
   "source": [
    "<details>\n",
    "  <summary><strong>Mostra soluzione</strong></summary>\n",
    "\n",
    "```python\n",
    "import sympy as sp\n",
    "import numpy as np\n",
    "import matplotlib.pyplot as plt\n",
    "\n",
    "# Define symbols\n",
    "x = sp.symbols('x')\n",
    "\n",
    "# Define the function: f(x) = ln(cos(x))\n",
    "f = sp.log(sp.cos(x))\n",
    "print(\"Function:\")\n",
    "sp.pretty_print(f)\n",
    "print(\"\\n\")\n",
    "\n",
    "# First derivative: f'(x)\n",
    "f1 = sp.diff(f, x)\n",
    "print(\"First derivative f'(x):\")\n",
    "sp.pretty_print(sp.simplify(f1))\n",
    "print(\"\\n\")\n",
    "\n",
    "# Second derivative: f''(x)\n",
    "f2 = sp.diff(f1, x)\n",
    "f2_simpl = sp.simplify(f2)\n",
    "print(\"Second derivative f''(x):\")\n",
    "sp.pretty_print(f2_simpl)\n",
    "print(\"\\n\")\n",
    "\n",
    "# Extract numerator and denominator of the second derivative:\n",
    "num, den = sp.fraction(f2_simpl)\n",
    "print(\"Numerator before expansion:\")\n",
    "sp.pretty_print(num)\n",
    "print(\"\\n\")\n",
    "\n",
    "# Expand the numerator:\n",
    "expanded_num = sp.expand(num)\n",
    "print(\"Expanded numerator:\")\n",
    "sp.pretty_print(expanded_num)\n",
    "print(\"\\n\")\n",
    "\n",
    "# Final study:\n",
    "print(\"Study the function:\")\n",
    "print(\"    f(x) = ln(cos(x))\")\n",
    "\n",
    "# Define the function for plotting:\n",
    "def f_plot(x):\n",
    "    return np.log(np.cos(x))\n",
    "\n",
    "# Define x values, avoiding singularities (where cos(x) ≤ 0)\n",
    "x_vals = np.linspace(-2*np.pi, 2*np.pi, 1000)\n",
    "y_vals = np.array([f_plot(xi) if np.cos(xi) > 0 else np.nan for xi in x_vals])\n",
    "\n",
    "# Plot the function:\n",
    "plt.figure(figsize=(8, 5))\n",
    "plt.plot(x_vals, y_vals, label=r'$f(x) = \\ln(\\cos x)$', color='b')\n",
    "plt.axhline(0, color='black', linewidth=0.5, linestyle='--')\n",
    "plt.axvline(0, color='black', linewidth=0.5, linestyle='--')\n",
    "plt.xlabel(\"x\")\n",
    "plt.ylabel(\"f(x)\")\n",
    "plt.title(\"Plot of $f(x) = \\ln(\\cos x)$\")\n",
    "plt.legend()\n",
    "plt.grid(True)\n",
    "plt.show()\n",
    "```\n",
    "</details>\n"
   ]
  },
  {
   "cell_type": "markdown",
   "metadata": {
    "id": "U5IkVChzLNgg"
   },
   "source": [
    "### Es 3:\n",
    "\n",
    "$$\n",
    "f(x) = \\ln(sin(x))\n",
    "$$\n"
   ]
  },
  {
   "cell_type": "markdown",
   "metadata": {
    "id": "TG0aJLFKLtEU"
   },
   "source": [
    "<details>\n",
    "  <summary><strong>Mostra soluzione</strong></summary>\n",
    "$$f(x) = \\ln(\\sin(y)) = \\ln (\\cos (y - \\frac{\\pi}{2}))$$\n",
    "</details>\n"
   ]
  },
  {
   "cell_type": "markdown",
   "metadata": {
    "id": "uJzGADx-NIMt"
   },
   "source": [
    "Studia le seguenti funzioni:\n",
    "Forse questo è esagerato.\n",
    "\n",
    "$$ f(x) = \\ln((x - 1)\\cdot (x-2)\\cdot (x -3)) = \\ln(x^3 - 6x^2 + 11x -6)$$ \n",
    "**Hint:** Evita lo studio della derivata seconda e prendi quello ovvio compatibile con la derivata prima. L'unico zero della funzione lo devi cercare in $x>3$ e utilizza come argomento il teorema dei valori intermedi e lo studio del segno della derivata di $x^3 - 6x^2 + 11x -6.$ Indica lo zero con $x_1,$ non serve che tu lo calcoli esplicitamente.\n",
    "Tra $1<x<2$ trova qualche condizione sufficiente per capire che $(x-1)(x-2)(x -3)< 1.$\n",
    "<details>\n",
    "  <summary><strong>Mostra soluzione</strong></summary>\n",
    "$$ (x-1)(2-x)(3 - x) < 1$$\n",
    "$$ (x-1)(2-x) < \\frac{1}{3-x}$$\n",
    "$$ (x-1)(2-x) < 1/2 < \\frac{1}{3-x}$$\n",
    "</details>\n",
    "\n",
    "\n",
    "$$ f(x) = (x-1) \\cdot \\ln(x-1) - (x-1) + (x-2) \\cdot \\ln(x-2) - (x-2) + (x-2) \\cdot \\ln(x-3) - (x-3) $$\n",
    "**Hint:** Se hai fatto quello prima hai un grosso vantaggio!"
   ]
  },
  {
   "cell_type": "code",
   "execution_count": 2,
   "metadata": {},
   "outputs": [
    {
     "name": "stderr",
     "output_type": "stream",
     "text": [
      "/var/folders/_5/_hcnny9s0691dt7mmcctbyw80000gn/T/ipykernel_7682/4267714507.py:10: RuntimeWarning: invalid value encountered in log\n",
      "  return np.where(product <= 0, np.nan, np.log(product)) #more robust handling of the domain\n"
     ]
    },
    {
     "data": {
      "image/png": "[encoded data removed]",
      "text/plain": [
       "<Figure size 1000x600 with 1 Axes>"
      ]
     },
     "metadata": {},
     "output_type": "display_data"
    }
   ],
   "source": [
    "import numpy as np\n",
    "import matplotlib.pyplot as plt\n",
    "\n",
    "def f(x):\n",
    "    \"\"\"Calculates ln((x-1)*(x-2)*(x-3)).\"\"\"\n",
    "    product = (x - 1) * (x - 2) * (x - 3)\n",
    "    # Handle potential domain errors (log of negative or zero)\n",
    "    if np.any(product <= 0):  # Check if any element is <=0\n",
    "        # return np.nan where the condition is true and the log of the product otherwise\n",
    "        return np.where(product <= 0, np.nan, np.log(product)) #more robust handling of the domain\n",
    "\n",
    "    return np.log(product)\n",
    "\n",
    "\n",
    "# Generate x values, being careful about the domain.\n",
    "x = np.linspace(-2, 4, 500)  # Start and end points are arbitrary, just to show the plot\n",
    "y = f(x)\n",
    "\n",
    "# Plot the function\n",
    "plt.figure(figsize=(10, 6))  # Adjust figure size for better visualization\n",
    "plt.plot(x, y)\n",
    "\n",
    "plt.xlabel(\"x\")\n",
    "plt.ylabel(\"f(x) = ln((x-1)(x-2)(x-3))\")\n",
    "plt.title(\"Plot of f(x)\")\n",
    "plt.grid(True)  # Add a grid for better readability\n",
    "\n",
    "# Highlight the vertical asymptotes (x=1, x=2, x=3)\n",
    "plt.axvline(x=1, color='red', linestyle='--', label='x=1, 2, 3 (Asymptotes)')\n",
    "plt.axvline(x=2, color='red', linestyle='--')\n",
    "plt.axvline(x=3, color='red', linestyle='--')\n",
    "\n",
    "plt.legend() #show the legend\n",
    "plt.ylim(-10, 10) #set y limits for a better view\n",
    "plt.xlim(-2, 4) #set x limits for a better view\n",
    "\n",
    "plt.show()"
   ]
  },
  {
   "cell_type": "markdown",
   "metadata": {
    "id": "oWyKNZLGW5hH"
   },
   "source": [
    "### Es 6:\n",
    "\n",
    "\n",
    "$$ f(x) = (x-2)^3 \\cdot ( \\ln(x-2) - 1)$$\n"
   ]
  },
  {
   "cell_type": "markdown",
   "metadata": {
    "id": "YcZIbP2UXvn_"
   },
   "source": [
    "### Es 7\n",
    "\n",
    "$$f(x) = x \\cdot exp(-\\dfrac{x}{e^{x} + 1 })$$\n"
   ]
  },
  {
   "cell_type": "markdown",
   "metadata": {
    "id": "J6lQNXY2YMKu"
   },
   "source": [
    "### Es 8\n",
    "\n",
    "$$f(x) = x^{3}cos(x) \\cdot exp(-x^2)$$"
   ]
  }
 ],
 "metadata": {
  "colab": {
   "authorship_tag": "ABX9TyOPY+uwvhJhXBojROFj0I0e",
   "include_colab_link": true,
   "provenance": []
  },
  "kernelspec": {
   "display_name": "Python 3 (ipykernel)",
   "language": "python",
   "name": "python3"
  },
  "language_info": {
   "codemirror_mode": {
    "name": "ipython",
    "version": 3
   },
   "file_extension": ".py",
   "mimetype": "text/x-python",
   "name": "python",
   "nbconvert_exporter": "python",
   "pygments_lexer": "ipython3",
   "version": "3.12.7"
  }
 },
 "nbformat": 4,
 "nbformat_minor": 4
}
